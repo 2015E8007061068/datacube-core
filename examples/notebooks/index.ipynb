{
 "cells": [
  {
   "cell_type": "markdown",
   "metadata": {
    "collapsed": true
   },
   "source": [
    "# Datacube Notebooks\n",
    "This is an index of the AGDC Jupyter Notebooks.\n",
    "For detailed information on using the "
   ]
  },
  {
   "cell_type": "markdown",
   "metadata": {},
   "source": [
    "[Datacube Summary](Datacube_Summary.ipynb) has examples of various features of using the Datacube."
   ]
  },
  {
   "cell_type": "markdown",
   "metadata": {},
   "source": [
    "[WOfS Sample](wofs_sample.ipynb) demonstarates the basics of the masking steps used in the Water Obersrvations from Space application."
   ]
  },
  {
   "cell_type": "code",
   "execution_count": null,
   "outputs": [],
   "source": [
    ""
   ]
  }
 ],
 "metadata": {
  "kernelspec": {
   "display_name": "Python 2",
   "language": "python",
   "name": "python2"
  },
  "language_info": {
   "codemirror_mode": {
    "name": "ipython",
    "version": 2.0
   },
   "file_extension": ".py",
   "mimetype": "text/x-python",
   "name": "python",
   "nbconvert_exporter": "python",
   "pygments_lexer": "ipython2",
   "version": "2.7.6"
  }
 },
 "nbformat": 4,
 "nbformat_minor": 0
}