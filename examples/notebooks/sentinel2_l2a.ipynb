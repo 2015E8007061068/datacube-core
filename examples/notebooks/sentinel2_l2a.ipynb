{
 "cells": [
  {
   "cell_type": "markdown",
   "metadata": {
    "deletable": true,
    "editable": true
   },
   "source": [
    "# Sentinel 2 L2A data in AGDCv2 "
   ]
  },
  {
   "cell_type": "markdown",
   "metadata": {
    "deletable": true,
    "editable": true
   },
   "source": [
    "The files that where used for ingestion are following:   \n",
    " - dataset_type: [s2_l2a_granules.yaml](https://github.com/hkristen/datacube-core/blob/develop/docs/config_samples/dataset_types/s2_l2a_granules.yaml)\n",
    " - preparation: [sen2cor_23_prepare.py](https://github.com/hkristen/datacube-core/blob/develop/utils/sen2cor_23_prepare.py)\n",
    " - ingester: [s2a_sen2cor_23_t32tps_20m_ingest.yaml](https://github.com/hkristen/datacube-core/blob/develop/docs/config_samples/ingester/s2a_sen2cor_23_t32tps_20m_ingest.yaml) & [s2a_sen2cor_23_t32tps_10m_ingest.yaml](https://github.com/hkristen/datacube-core/blob/develop/docs/config_samples/ingester/s2a_sen2cor_23_t32tps_10m_ingest.yaml)"
   ]
  },
  {
   "cell_type": "markdown",
   "metadata": {
    "deletable": true,
    "editable": true
   },
   "source": [
    "Following datasets where imported\n",
    "\n",
    "```\n",
    "S2A_USER_PRD_MSIL2A_PDMC_20161009T203405_R065_V20161009T102022_20161009T102522.SAFE\n",
    "S2A_USER_PRD_MSIL2A_PDMC_20161013T105355_R065_V20160919T102022_20160919T102112.SAFE\n",
    "S2A_USER_PRD_MSIL2A_PDMC_20161018T105529_R022_V20161016T101022_20161016T101019.SAFE\n",
    "S2A_USER_PRD_MSIL2A_PDMC_20161019T201128_R065_V20150915T102026_20150915T102026.SAFE\n",
    "S2A_USER_PRD_MSIL2A_PDMC_20161028T110122_R022_V20161026T101112_20161026T101112.SAFE\n",
    "S2A_USER_PRD_MSIL2A_PDMC_20161029T195843_R065_V20161029T102132_20161029T102132.SAFE\n",
    "S2A_USER_PRD_MSIL2A_PDMC_20161109T225541_R065_V20161108T102232_20161108T102232.SAFE\n",
    "S2A_USER_PRD_MSIL2A_PDMC_20161115T190438_R022_V20161115T101302_20161115T101302.SAFE\n",
    "S2A_USER_PRD_MSIL2A_PDMC_20161118T120558_R065_V20161019T102032_20161019T102032.SAFE\n",
    "S2A_USER_PRD_MSIL2A_PDMC_20161118T201818_R065_V20161118T102322_20161118T102322.SAFE\n",
    "```"
   ]
  },
  {
   "cell_type": "markdown",
   "metadata": {},
   "source": [
    "You can find one metadata file that was written by sen2cor_23_prepare.py here:\n",
    "[agdc-metadata.yaml](https://github.com/hkristen/datacube-core/blob/develop/utils/agdc-metadata.yaml)"
   ]
  },
  {
   "cell_type": "code",
   "execution_count": 5,
   "metadata": {
    "collapsed": false,
    "deletable": true,
    "editable": true
   },
   "outputs": [],
   "source": [
    "import matplotlib\n",
    "%matplotlib inline\n",
    "import matplotlib.pyplot as plt\n",
    "import numpy as np\n",
    "import datacube\n",
    "import xarray"
   ]
  },
  {
   "cell_type": "code",
   "execution_count": 6,
   "metadata": {
    "collapsed": false,
    "deletable": true,
    "editable": true,
    "scrolled": true
   },
   "outputs": [
    {
     "data": {
      "text/plain": [
       "Datacube<index=Index<db=PostgresDb<engine=Engine(postgresql://hkristen@:5432/datacube)>>>"
      ]
     },
     "execution_count": 6,
     "metadata": {},
     "output_type": "execute_result"
    }
   ],
   "source": [
    "dc = datacube.Datacube(app='sentinel2')\n",
    "dc"
   ]
  },
  {
   "cell_type": "markdown",
   "metadata": {
    "collapsed": false,
    "deletable": true,
    "editable": true
   },
   "source": [
    "## Datacube products & measurements\n",
    "The Datacube provides pandas.DataFrame representations of the available products and measurements.\n"
   ]
  },
  {
   "cell_type": "code",
   "execution_count": 7,
   "metadata": {
    "collapsed": false,
    "deletable": true,
    "editable": true,
    "scrolled": false
   },
   "outputs": [
    {
     "data": {
      "text/html": [
       "<div>\n",
       "<table border=\"1\" class=\"dataframe\">\n",
       "  <thead>\n",
       "    <tr style=\"text-align: right;\">\n",
       "      <th></th>\n",
       "      <th>name</th>\n",
       "      <th>description</th>\n",
       "      <th>platform</th>\n",
       "      <th>lat</th>\n",
       "      <th>lon</th>\n",
       "      <th>product_type</th>\n",
       "      <th>instrument</th>\n",
       "      <th>time</th>\n",
       "      <th>format</th>\n",
       "      <th>crs</th>\n",
       "      <th>resolution</th>\n",
       "      <th>tile_size</th>\n",
       "      <th>spatial_dimensions</th>\n",
       "    </tr>\n",
       "    <tr>\n",
       "      <th>id</th>\n",
       "      <th></th>\n",
       "      <th></th>\n",
       "      <th></th>\n",
       "      <th></th>\n",
       "      <th></th>\n",
       "      <th></th>\n",
       "      <th></th>\n",
       "      <th></th>\n",
       "      <th></th>\n",
       "      <th></th>\n",
       "      <th></th>\n",
       "      <th></th>\n",
       "      <th></th>\n",
       "    </tr>\n",
       "  </thead>\n",
       "  <tbody>\n",
       "    <tr>\n",
       "      <th>1</th>\n",
       "      <td>s2a_sen2cor_23_no_dem_yes_cirrus</td>\n",
       "      <td>Sentinel-2 Level 2 - Sen2Cor Bottom of Atmosph...</td>\n",
       "      <td>SENTINEL_2A</td>\n",
       "      <td>None</td>\n",
       "      <td>None</td>\n",
       "      <td>S2MSI2Ap</td>\n",
       "      <td>MSI</td>\n",
       "      <td>None</td>\n",
       "      <td>JPEG2000</td>\n",
       "      <td>NaN</td>\n",
       "      <td>NaN</td>\n",
       "      <td>NaN</td>\n",
       "      <td>NaN</td>\n",
       "    </tr>\n",
       "    <tr>\n",
       "      <th>3</th>\n",
       "      <td>s2a_sen2cor_23_t32tps_10m</td>\n",
       "      <td>Sentinel-2A USER PRD MSI2A 10 metre, 10km tile...</td>\n",
       "      <td>SENTINEL_2A</td>\n",
       "      <td>None</td>\n",
       "      <td>None</td>\n",
       "      <td>S2MSI2Ap</td>\n",
       "      <td>MSI</td>\n",
       "      <td>None</td>\n",
       "      <td>NetCDF</td>\n",
       "      <td>EPSG:32633</td>\n",
       "      <td>[-10, 10]</td>\n",
       "      <td>[10000.0, 10000.0]</td>\n",
       "      <td>(y, x)</td>\n",
       "    </tr>\n",
       "    <tr>\n",
       "      <th>2</th>\n",
       "      <td>s2a_sen2cor_23_t32tps_20m</td>\n",
       "      <td>Sentinel-2A USER PRD MSI2A 20 metre, 10km tile...</td>\n",
       "      <td>SENTINEL_2A</td>\n",
       "      <td>None</td>\n",
       "      <td>None</td>\n",
       "      <td>S2MSI2Ap</td>\n",
       "      <td>MSI</td>\n",
       "      <td>None</td>\n",
       "      <td>NetCDF</td>\n",
       "      <td>EPSG:32633</td>\n",
       "      <td>[-10, 10]</td>\n",
       "      <td>[10000.0, 10000.0]</td>\n",
       "      <td>(y, x)</td>\n",
       "    </tr>\n",
       "  </tbody>\n",
       "</table>\n",
       "</div>"
      ],
      "text/plain": [
       "                                name  \\\n",
       "id                                     \n",
       "1   s2a_sen2cor_23_no_dem_yes_cirrus   \n",
       "3          s2a_sen2cor_23_t32tps_10m   \n",
       "2          s2a_sen2cor_23_t32tps_20m   \n",
       "\n",
       "                                          description     platform   lat  \\\n",
       "id                                                                         \n",
       "1   Sentinel-2 Level 2 - Sen2Cor Bottom of Atmosph...  SENTINEL_2A  None   \n",
       "3   Sentinel-2A USER PRD MSI2A 10 metre, 10km tile...  SENTINEL_2A  None   \n",
       "2   Sentinel-2A USER PRD MSI2A 20 metre, 10km tile...  SENTINEL_2A  None   \n",
       "\n",
       "     lon product_type instrument  time    format         crs resolution  \\\n",
       "id                                                                        \n",
       "1   None     S2MSI2Ap        MSI  None  JPEG2000         NaN        NaN   \n",
       "3   None     S2MSI2Ap        MSI  None    NetCDF  EPSG:32633  [-10, 10]   \n",
       "2   None     S2MSI2Ap        MSI  None    NetCDF  EPSG:32633  [-10, 10]   \n",
       "\n",
       "             tile_size spatial_dimensions  \n",
       "id                                         \n",
       "1                  NaN                NaN  \n",
       "3   [10000.0, 10000.0]             (y, x)  \n",
       "2   [10000.0, 10000.0]             (y, x)  "
      ]
     },
     "execution_count": 7,
     "metadata": {},
     "output_type": "execute_result"
    }
   ],
   "source": [
    "dc.list_products()"
   ]
  },
  {
   "cell_type": "markdown",
   "metadata": {
    "deletable": true,
    "editable": true
   },
   "source": [
    "## Datacube Measurements\n",
    "\n",
    "The list of measurements stored in the datacube can also be listed.\n",
    "\n",
    "Measurements are also known as bands in the imagery domain, and data variables when stored in NetCDF files or when working with xarray.Dataset objects.\n"
   ]
  },
  {
   "cell_type": "code",
   "execution_count": 4,
   "metadata": {
    "collapsed": false,
    "deletable": true,
    "editable": true,
    "scrolled": true
   },
   "outputs": [
    {
     "data": {
      "text/html": [
       "<div>\n",
       "<table border=\"1\" class=\"dataframe\">\n",
       "  <thead>\n",
       "    <tr style=\"text-align: right;\">\n",
       "      <th></th>\n",
       "      <th></th>\n",
       "      <th>aliases</th>\n",
       "      <th>dtype</th>\n",
       "      <th>name</th>\n",
       "      <th>nodata</th>\n",
       "      <th>spectral_definition</th>\n",
       "      <th>units</th>\n",
       "    </tr>\n",
       "    <tr>\n",
       "      <th>product</th>\n",
       "      <th>measurement</th>\n",
       "      <th></th>\n",
       "      <th></th>\n",
       "      <th></th>\n",
       "      <th></th>\n",
       "      <th></th>\n",
       "      <th></th>\n",
       "    </tr>\n",
       "  </thead>\n",
       "  <tbody>\n",
       "    <tr>\n",
       "      <th rowspan=\"13\" valign=\"top\">s2a_sen2cor_23_no_dem_yes_cirrus</th>\n",
       "      <th>B02_10m</th>\n",
       "      <td>NaN</td>\n",
       "      <td>uint16</td>\n",
       "      <td>B02_10m</td>\n",
       "      <td>0</td>\n",
       "      <td>{'wavelength': [440, 441, 442, 443, 444, 445, ...</td>\n",
       "      <td>1</td>\n",
       "    </tr>\n",
       "    <tr>\n",
       "      <th>B02_20m</th>\n",
       "      <td>NaN</td>\n",
       "      <td>uint16</td>\n",
       "      <td>B02_20m</td>\n",
       "      <td>0</td>\n",
       "      <td>{'wavelength': [440, 441, 442, 443, 444, 445, ...</td>\n",
       "      <td>1</td>\n",
       "    </tr>\n",
       "    <tr>\n",
       "      <th>B03_10m</th>\n",
       "      <td>[band_03, B03, Band3]</td>\n",
       "      <td>uint16</td>\n",
       "      <td>B03_10m</td>\n",
       "      <td>0</td>\n",
       "      <td>{'wavelength': [537, 538, 539, 540, 541, 542, ...</td>\n",
       "      <td>1</td>\n",
       "    </tr>\n",
       "    <tr>\n",
       "      <th>B03_20m</th>\n",
       "      <td>NaN</td>\n",
       "      <td>uint16</td>\n",
       "      <td>B03_20m</td>\n",
       "      <td>0</td>\n",
       "      <td>{'wavelength': [537, 538, 539, 540, 541, 542, ...</td>\n",
       "      <td>1</td>\n",
       "    </tr>\n",
       "    <tr>\n",
       "      <th>B04_10m</th>\n",
       "      <td>NaN</td>\n",
       "      <td>uint16</td>\n",
       "      <td>B04_10m</td>\n",
       "      <td>0</td>\n",
       "      <td>{'wavelength': [646, 647, 648, 649, 650, 651, ...</td>\n",
       "      <td>1</td>\n",
       "    </tr>\n",
       "    <tr>\n",
       "      <th>B04_20m</th>\n",
       "      <td>NaN</td>\n",
       "      <td>uint16</td>\n",
       "      <td>B04_20m</td>\n",
       "      <td>0</td>\n",
       "      <td>{'wavelength': [646, 647, 648, 649, 650, 651, ...</td>\n",
       "      <td>1</td>\n",
       "    </tr>\n",
       "    <tr>\n",
       "      <th>B05_20m</th>\n",
       "      <td>NaN</td>\n",
       "      <td>uint16</td>\n",
       "      <td>B05_20m</td>\n",
       "      <td>0</td>\n",
       "      <td>{'wavelength': [694, 695, 696, 697, 698, 699, ...</td>\n",
       "      <td>1</td>\n",
       "    </tr>\n",
       "    <tr>\n",
       "      <th>B06_20m</th>\n",
       "      <td>NaN</td>\n",
       "      <td>uint16</td>\n",
       "      <td>B06_20m</td>\n",
       "      <td>0</td>\n",
       "      <td>{'wavelength': [731, 732, 733, 734, 735, 736, ...</td>\n",
       "      <td>1</td>\n",
       "    </tr>\n",
       "    <tr>\n",
       "      <th>B07_20m</th>\n",
       "      <td>NaN</td>\n",
       "      <td>uint16</td>\n",
       "      <td>B07_20m</td>\n",
       "      <td>0</td>\n",
       "      <td>{'wavelength': [769, 770, 771, 772, 773, 774, ...</td>\n",
       "      <td>1</td>\n",
       "    </tr>\n",
       "    <tr>\n",
       "      <th>B08_10m</th>\n",
       "      <td>NaN</td>\n",
       "      <td>uint16</td>\n",
       "      <td>B08_10m</td>\n",
       "      <td>0</td>\n",
       "      <td>{'wavelength': [773, 774, 775, 776, 777, 778, ...</td>\n",
       "      <td>1</td>\n",
       "    </tr>\n",
       "    <tr>\n",
       "      <th>B8A_20m</th>\n",
       "      <td>NaN</td>\n",
       "      <td>uint16</td>\n",
       "      <td>B8A_20m</td>\n",
       "      <td>0</td>\n",
       "      <td>{'wavelength': [848, 849, 850, 851, 852, 853, ...</td>\n",
       "      <td>1</td>\n",
       "    </tr>\n",
       "    <tr>\n",
       "      <th>B11_20m</th>\n",
       "      <td>NaN</td>\n",
       "      <td>uint16</td>\n",
       "      <td>B11_20m</td>\n",
       "      <td>0</td>\n",
       "      <td>{'wavelength': [1539, 1540, 1541, 1542, 1543, ...</td>\n",
       "      <td>1</td>\n",
       "    </tr>\n",
       "    <tr>\n",
       "      <th>B12_20m</th>\n",
       "      <td>NaN</td>\n",
       "      <td>uint16</td>\n",
       "      <td>B12_20m</td>\n",
       "      <td>0</td>\n",
       "      <td>{'wavelength': [2078, 2079, 2080, 2081, 2082, ...</td>\n",
       "      <td>1</td>\n",
       "    </tr>\n",
       "    <tr>\n",
       "      <th rowspan=\"4\" valign=\"top\">s2a_sen2cor_23_t32tps_10m</th>\n",
       "      <th>B02_10m</th>\n",
       "      <td>NaN</td>\n",
       "      <td>int16</td>\n",
       "      <td>B02_10m</td>\n",
       "      <td>-999</td>\n",
       "      <td>{'wavelength': [440, 441, 442, 443, 444, 445, ...</td>\n",
       "      <td>1</td>\n",
       "    </tr>\n",
       "    <tr>\n",
       "      <th>B03_10m</th>\n",
       "      <td>[band_03, B03, Band3]</td>\n",
       "      <td>int16</td>\n",
       "      <td>B03_10m</td>\n",
       "      <td>-999</td>\n",
       "      <td>{'wavelength': [537, 538, 539, 540, 541, 542, ...</td>\n",
       "      <td>1</td>\n",
       "    </tr>\n",
       "    <tr>\n",
       "      <th>B04_10m</th>\n",
       "      <td>NaN</td>\n",
       "      <td>int16</td>\n",
       "      <td>B04_10m</td>\n",
       "      <td>-999</td>\n",
       "      <td>{'wavelength': [646, 647, 648, 649, 650, 651, ...</td>\n",
       "      <td>1</td>\n",
       "    </tr>\n",
       "    <tr>\n",
       "      <th>B08_10m</th>\n",
       "      <td>NaN</td>\n",
       "      <td>int16</td>\n",
       "      <td>B08_10m</td>\n",
       "      <td>-999</td>\n",
       "      <td>{'wavelength': [773, 774, 775, 776, 777, 778, ...</td>\n",
       "      <td>1</td>\n",
       "    </tr>\n",
       "    <tr>\n",
       "      <th rowspan=\"9\" valign=\"top\">s2a_sen2cor_23_t32tps_20m</th>\n",
       "      <th>B02</th>\n",
       "      <td>NaN</td>\n",
       "      <td>int16</td>\n",
       "      <td>B02</td>\n",
       "      <td>-999</td>\n",
       "      <td>{'wavelength': [440, 441, 442, 443, 444, 445, ...</td>\n",
       "      <td>1</td>\n",
       "    </tr>\n",
       "    <tr>\n",
       "      <th>B03</th>\n",
       "      <td>NaN</td>\n",
       "      <td>int16</td>\n",
       "      <td>B03</td>\n",
       "      <td>-999</td>\n",
       "      <td>{'wavelength': [537, 538, 539, 540, 541, 542, ...</td>\n",
       "      <td>1</td>\n",
       "    </tr>\n",
       "    <tr>\n",
       "      <th>B04</th>\n",
       "      <td>NaN</td>\n",
       "      <td>int16</td>\n",
       "      <td>B04</td>\n",
       "      <td>-999</td>\n",
       "      <td>{'wavelength': [646, 647, 648, 649, 650, 651, ...</td>\n",
       "      <td>1</td>\n",
       "    </tr>\n",
       "    <tr>\n",
       "      <th>B05</th>\n",
       "      <td>NaN</td>\n",
       "      <td>int16</td>\n",
       "      <td>B05</td>\n",
       "      <td>-999</td>\n",
       "      <td>{'wavelength': [694, 695, 696, 697, 698, 699, ...</td>\n",
       "      <td>1</td>\n",
       "    </tr>\n",
       "    <tr>\n",
       "      <th>B06</th>\n",
       "      <td>NaN</td>\n",
       "      <td>int16</td>\n",
       "      <td>B06</td>\n",
       "      <td>-999</td>\n",
       "      <td>{'wavelength': [731, 732, 733, 734, 735, 736, ...</td>\n",
       "      <td>1</td>\n",
       "    </tr>\n",
       "    <tr>\n",
       "      <th>B07</th>\n",
       "      <td>NaN</td>\n",
       "      <td>int16</td>\n",
       "      <td>B07</td>\n",
       "      <td>-999</td>\n",
       "      <td>{'wavelength': [769, 770, 771, 772, 773, 774, ...</td>\n",
       "      <td>1</td>\n",
       "    </tr>\n",
       "    <tr>\n",
       "      <th>B08A</th>\n",
       "      <td>NaN</td>\n",
       "      <td>int16</td>\n",
       "      <td>B08A</td>\n",
       "      <td>-999</td>\n",
       "      <td>{'wavelength': [848, 849, 850, 851, 852, 853, ...</td>\n",
       "      <td>1</td>\n",
       "    </tr>\n",
       "    <tr>\n",
       "      <th>B11</th>\n",
       "      <td>NaN</td>\n",
       "      <td>int16</td>\n",
       "      <td>B11</td>\n",
       "      <td>-999</td>\n",
       "      <td>{'wavelength': [1539, 1540, 1541, 1542, 1543, ...</td>\n",
       "      <td>1</td>\n",
       "    </tr>\n",
       "    <tr>\n",
       "      <th>B12</th>\n",
       "      <td>NaN</td>\n",
       "      <td>int16</td>\n",
       "      <td>B12</td>\n",
       "      <td>-999</td>\n",
       "      <td>{'wavelength': [2078, 2079, 2080, 2081, 2082, ...</td>\n",
       "      <td>1</td>\n",
       "    </tr>\n",
       "  </tbody>\n",
       "</table>\n",
       "</div>"
      ],
      "text/plain": [
       "                                                            aliases   dtype  \\\n",
       "product                          measurement                                  \n",
       "s2a_sen2cor_23_no_dem_yes_cirrus B02_10m                        NaN  uint16   \n",
       "                                 B02_20m                        NaN  uint16   \n",
       "                                 B03_10m      [band_03, B03, Band3]  uint16   \n",
       "                                 B03_20m                        NaN  uint16   \n",
       "                                 B04_10m                        NaN  uint16   \n",
       "                                 B04_20m                        NaN  uint16   \n",
       "                                 B05_20m                        NaN  uint16   \n",
       "                                 B06_20m                        NaN  uint16   \n",
       "                                 B07_20m                        NaN  uint16   \n",
       "                                 B08_10m                        NaN  uint16   \n",
       "                                 B8A_20m                        NaN  uint16   \n",
       "                                 B11_20m                        NaN  uint16   \n",
       "                                 B12_20m                        NaN  uint16   \n",
       "s2a_sen2cor_23_t32tps_10m        B02_10m                        NaN   int16   \n",
       "                                 B03_10m      [band_03, B03, Band3]   int16   \n",
       "                                 B04_10m                        NaN   int16   \n",
       "                                 B08_10m                        NaN   int16   \n",
       "s2a_sen2cor_23_t32tps_20m        B02                            NaN   int16   \n",
       "                                 B03                            NaN   int16   \n",
       "                                 B04                            NaN   int16   \n",
       "                                 B05                            NaN   int16   \n",
       "                                 B06                            NaN   int16   \n",
       "                                 B07                            NaN   int16   \n",
       "                                 B08A                           NaN   int16   \n",
       "                                 B11                            NaN   int16   \n",
       "                                 B12                            NaN   int16   \n",
       "\n",
       "                                                 name  nodata  \\\n",
       "product                          measurement                    \n",
       "s2a_sen2cor_23_no_dem_yes_cirrus B02_10m      B02_10m       0   \n",
       "                                 B02_20m      B02_20m       0   \n",
       "                                 B03_10m      B03_10m       0   \n",
       "                                 B03_20m      B03_20m       0   \n",
       "                                 B04_10m      B04_10m       0   \n",
       "                                 B04_20m      B04_20m       0   \n",
       "                                 B05_20m      B05_20m       0   \n",
       "                                 B06_20m      B06_20m       0   \n",
       "                                 B07_20m      B07_20m       0   \n",
       "                                 B08_10m      B08_10m       0   \n",
       "                                 B8A_20m      B8A_20m       0   \n",
       "                                 B11_20m      B11_20m       0   \n",
       "                                 B12_20m      B12_20m       0   \n",
       "s2a_sen2cor_23_t32tps_10m        B02_10m      B02_10m    -999   \n",
       "                                 B03_10m      B03_10m    -999   \n",
       "                                 B04_10m      B04_10m    -999   \n",
       "                                 B08_10m      B08_10m    -999   \n",
       "s2a_sen2cor_23_t32tps_20m        B02              B02    -999   \n",
       "                                 B03              B03    -999   \n",
       "                                 B04              B04    -999   \n",
       "                                 B05              B05    -999   \n",
       "                                 B06              B06    -999   \n",
       "                                 B07              B07    -999   \n",
       "                                 B08A            B08A    -999   \n",
       "                                 B11              B11    -999   \n",
       "                                 B12              B12    -999   \n",
       "\n",
       "                                                                            spectral_definition  \\\n",
       "product                          measurement                                                      \n",
       "s2a_sen2cor_23_no_dem_yes_cirrus B02_10m      {'wavelength': [440, 441, 442, 443, 444, 445, ...   \n",
       "                                 B02_20m      {'wavelength': [440, 441, 442, 443, 444, 445, ...   \n",
       "                                 B03_10m      {'wavelength': [537, 538, 539, 540, 541, 542, ...   \n",
       "                                 B03_20m      {'wavelength': [537, 538, 539, 540, 541, 542, ...   \n",
       "                                 B04_10m      {'wavelength': [646, 647, 648, 649, 650, 651, ...   \n",
       "                                 B04_20m      {'wavelength': [646, 647, 648, 649, 650, 651, ...   \n",
       "                                 B05_20m      {'wavelength': [694, 695, 696, 697, 698, 699, ...   \n",
       "                                 B06_20m      {'wavelength': [731, 732, 733, 734, 735, 736, ...   \n",
       "                                 B07_20m      {'wavelength': [769, 770, 771, 772, 773, 774, ...   \n",
       "                                 B08_10m      {'wavelength': [773, 774, 775, 776, 777, 778, ...   \n",
       "                                 B8A_20m      {'wavelength': [848, 849, 850, 851, 852, 853, ...   \n",
       "                                 B11_20m      {'wavelength': [1539, 1540, 1541, 1542, 1543, ...   \n",
       "                                 B12_20m      {'wavelength': [2078, 2079, 2080, 2081, 2082, ...   \n",
       "s2a_sen2cor_23_t32tps_10m        B02_10m      {'wavelength': [440, 441, 442, 443, 444, 445, ...   \n",
       "                                 B03_10m      {'wavelength': [537, 538, 539, 540, 541, 542, ...   \n",
       "                                 B04_10m      {'wavelength': [646, 647, 648, 649, 650, 651, ...   \n",
       "                                 B08_10m      {'wavelength': [773, 774, 775, 776, 777, 778, ...   \n",
       "s2a_sen2cor_23_t32tps_20m        B02          {'wavelength': [440, 441, 442, 443, 444, 445, ...   \n",
       "                                 B03          {'wavelength': [537, 538, 539, 540, 541, 542, ...   \n",
       "                                 B04          {'wavelength': [646, 647, 648, 649, 650, 651, ...   \n",
       "                                 B05          {'wavelength': [694, 695, 696, 697, 698, 699, ...   \n",
       "                                 B06          {'wavelength': [731, 732, 733, 734, 735, 736, ...   \n",
       "                                 B07          {'wavelength': [769, 770, 771, 772, 773, 774, ...   \n",
       "                                 B08A         {'wavelength': [848, 849, 850, 851, 852, 853, ...   \n",
       "                                 B11          {'wavelength': [1539, 1540, 1541, 1542, 1543, ...   \n",
       "                                 B12          {'wavelength': [2078, 2079, 2080, 2081, 2082, ...   \n",
       "\n",
       "                                             units  \n",
       "product                          measurement        \n",
       "s2a_sen2cor_23_no_dem_yes_cirrus B02_10m         1  \n",
       "                                 B02_20m         1  \n",
       "                                 B03_10m         1  \n",
       "                                 B03_20m         1  \n",
       "                                 B04_10m         1  \n",
       "                                 B04_20m         1  \n",
       "                                 B05_20m         1  \n",
       "                                 B06_20m         1  \n",
       "                                 B07_20m         1  \n",
       "                                 B08_10m         1  \n",
       "                                 B8A_20m         1  \n",
       "                                 B11_20m         1  \n",
       "                                 B12_20m         1  \n",
       "s2a_sen2cor_23_t32tps_10m        B02_10m         1  \n",
       "                                 B03_10m         1  \n",
       "                                 B04_10m         1  \n",
       "                                 B08_10m         1  \n",
       "s2a_sen2cor_23_t32tps_20m        B02             1  \n",
       "                                 B03             1  \n",
       "                                 B04             1  \n",
       "                                 B05             1  \n",
       "                                 B06             1  \n",
       "                                 B07             1  \n",
       "                                 B08A            1  \n",
       "                                 B11             1  \n",
       "                                 B12             1  "
      ]
     },
     "execution_count": 4,
     "metadata": {},
     "output_type": "execute_result"
    }
   ],
   "source": [
    "dc.list_measurements()"
   ]
  },
  {
   "cell_type": "markdown",
   "metadata": {
    "deletable": true,
    "editable": true
   },
   "source": [
    "## Plotting data\n"
   ]
  },
  {
   "cell_type": "markdown",
   "metadata": {
    "deletable": true,
    "editable": true
   },
   "source": [
    "Create plot variable of ONE timestep and show extents"
   ]
  },
  {
   "cell_type": "code",
   "execution_count": 8,
   "metadata": {
    "collapsed": false,
    "deletable": true,
    "editable": true
   },
   "outputs": [
    {
     "data": {
      "text/plain": [
       "Geometry(POLYGON ((135070 5209850,135070 5091930,252990 5091930,252990 5209850,135070 5209850)), EPSG:32633)"
      ]
     },
     "execution_count": 8,
     "metadata": {},
     "output_type": "execute_result"
    }
   ],
   "source": [
    "s2a_plot = dc.load(product='s2a_sen2cor_23_t32tps_20m', time=('2016-10-26T10:12:56.085000000'), measurements=['B04'], group_by='solar_day')\n",
    "s2a_plot.extent"
   ]
  },
  {
   "cell_type": "markdown",
   "metadata": {
    "collapsed": true,
    "deletable": true,
    "editable": true
   },
   "source": [
    "#### Extents according to QGIS\n",
    "\n",
    "\n",
    "600000.0000000000000000,5090220.0000000000000000 : 709800.0000000000000000,5200020.0000000000000000\n",
    "\n",
    "\n",
    "#### Extents according too gdalinfo\n",
    "\n",
    "Corner Coordinates:\n",
    "Upper Left  (  600000.000, 5200020.000) ( 10d18'50.53\"E, 46d56'46.21\"N)\n",
    "Lower Left  (  600000.000, 5090220.000) ( 10d17'25.74\"E, 45d57'29.75\"N)\n",
    "Upper Right (  709800.000, 5200020.000) ( 11d45'20.11\"E, 46d55'13.93\"N)\n",
    "Lower Right (  709800.000, 5090220.000) ( 11d42'22.52\"E, 45d56' 0.59\"N)\n",
    "Center      (  654900.000, 5145120.000) ( 11d 0'59.72\"E, 46d26'30.73\"N)\n"
   ]
  },
  {
   "cell_type": "code",
   "execution_count": 9,
   "metadata": {
    "collapsed": false,
    "deletable": true,
    "editable": true,
    "scrolled": true
   },
   "outputs": [
    {
     "data": {
      "text/plain": [
       "<xarray.DataArray 'x' (x: 11792)>\n",
       "array([ 135075.,  135085.,  135095., ...,  252965.,  252975.,  252985.])\n",
       "Coordinates:\n",
       "  * x        (x) float64 1.351e+05 1.351e+05 1.351e+05 1.351e+05 1.351e+05 ...\n",
       "Attributes:\n",
       "    units: metre"
      ]
     },
     "execution_count": 9,
     "metadata": {},
     "output_type": "execute_result"
    }
   ],
   "source": [
    "s2a_plot.B04.x"
   ]
  },
  {
   "cell_type": "code",
   "execution_count": 10,
   "metadata": {
    "collapsed": false,
    "deletable": true,
    "editable": true
   },
   "outputs": [
    {
     "data": {
      "text/plain": [
       "<xarray.DataArray 'B04' (time: 1, y: 11792, x: 11792)>\n",
       "array([[[-999, -999, ..., -999, -999],\n",
       "        [-999, -999, ..., -999, -999],\n",
       "        ..., \n",
       "        [-999, -999, ..., -999, -999],\n",
       "        [-999, -999, ..., -999, -999]]], dtype=int16)\n",
       "Coordinates:\n",
       "  * time     (time) datetime64[ns] 2016-10-26T10:12:56.085000\n",
       "  * y        (y) float64 5.21e+06 5.21e+06 5.21e+06 5.21e+06 5.21e+06 ...\n",
       "  * x        (x) float64 1.351e+05 1.351e+05 1.351e+05 1.351e+05 1.351e+05 ...\n",
       "Attributes:\n",
       "    units: 1\n",
       "    crs: EPSG:32633\n",
       "    nodata: -999\n",
       "    spectral_definition: {'response': [0.002584, 0.034529, 0.14997, 0.464826, 0.817746, 0.965324, 0.983869, 0.9969, 1.0, 0.995449, 0.991334, 0.977215, 0.936802, 0.873776, 0.814166, 0.776669, 0.764864, 0.775091, 0.801359, 0.830828, 0.857112, 0.883581, 0.90895, 0.934759, 0.955931, 0.96811, 0.973219, 0.971572, 0.969003, 0.965712, 0.960481, 0.944811, 0.884152, 0.706167, 0.422967, 0.189853, 0.063172, 0.020615, 0.002034], 'wavelength': [646, 647, 648, 649, 650, 651, 652, 653, 654, 655, 656, 657, 658, 659, 660, 661, 662, 66..."
      ]
     },
     "execution_count": 10,
     "metadata": {},
     "output_type": "execute_result"
    }
   ],
   "source": [
    "s2a_plot.B04"
   ]
  },
  {
   "cell_type": "code",
   "execution_count": 5,
   "metadata": {
    "collapsed": false,
    "deletable": true,
    "editable": true
   },
   "outputs": [
    {
     "data": {
      "text/plain": [
       "<matplotlib.collections.QuadMesh at 0x7f1351f32be0>"
      ]
     },
     "execution_count": 5,
     "metadata": {},
     "output_type": "execute_result"
    },
    {
     "data": {
      "image/png": "[encoded data removed]",
      "text/plain": [
       "<matplotlib.figure.Figure at 0x7f13657d9f60>"
      ]
     },
     "metadata": {},
     "output_type": "display_data"
    }
   ],
   "source": [
    "s2a_plot.B04.plot()"
   ]
  },
  {
   "cell_type": "code",
   "execution_count": null,
   "metadata": {
    "collapsed": true,
    "deletable": true,
    "editable": true
   },
   "outputs": [],
   "source": [
    "### the extent of the plot is wrong!!! but why?? "
   ]
  },
  {
   "cell_type": "code",
   "execution_count": 19,
   "metadata": {
    "collapsed": false,
    "deletable": true,
    "editable": true
   },
   "outputs": [
    {
     "data": {
      "image/png": "[encoded data removed]",
      "text/plain": [
       "<matplotlib.figure.Figure at 0x7f79006fdeb8>"
      ]
     },
     "metadata": {},
     "output_type": "display_data"
    }
   ],
   "source": [
    "#plt.plot(s2a_plot.B04.x, s2a_plot.B04_10m.y)\n",
    "plt.axis([600000,709800,5200020, 5090220])\n",
    "plt.savefig('test.png')\n",
    "plt.show()"
   ]
  },
  {
   "cell_type": "markdown",
   "metadata": {
    "deletable": true,
    "editable": true
   },
   "source": [
    "### Plot a histogram"
   ]
  },
  {
   "cell_type": "code",
   "execution_count": 22,
   "metadata": {
    "collapsed": false,
    "deletable": true,
    "editable": true
   },
   "outputs": [
    {
     "data": {
      "text/plain": [
       "(array([  1.82843490e+07,   7.77428200e+06,   8.83456600e+06,\n",
       "          9.12521600e+06,   9.74888000e+06,   1.01568530e+07,\n",
       "          1.07445610e+07,   1.13476490e+07,   1.19568720e+07,\n",
       "          1.13248250e+07,   1.01214390e+07,   7.49349900e+06,\n",
       "          4.88492800e+06,   3.23588600e+06,   1.98995100e+06,\n",
       "          1.16086600e+06,   6.05400000e+05,   2.15938000e+05,\n",
       "          3.34450000e+04,   1.18590000e+04]),\n",
       " array([  -999. ,    -87.4,    824.2,   1735.8,   2647.4,   3559. ,\n",
       "          4470.6,   5382.2,   6293.8,   7205.4,   8117. ,   9028.6,\n",
       "          9940.2,  10851.8,  11763.4,  12675. ,  13586.6,  14498.2,\n",
       "         15409.8,  16321.4,  17233. ]),\n",
       " <a list of 20 Patch objects>)"
      ]
     },
     "execution_count": 22,
     "metadata": {},
     "output_type": "execute_result"
    },
    {
     "data": {
      "image/png": "[encoded data removed]",
      "text/plain": [
       "<matplotlib.figure.Figure at 0x7f79b6fb8fd0>"
      ]
     },
     "metadata": {},
     "output_type": "display_data"
    }
   ],
   "source": [
    "plt.hist(s2a_plot.B04, bins =20)"
   ]
  },
  {
   "cell_type": "markdown",
   "metadata": {
    "deletable": true,
    "editable": true
   },
   "source": [
    "### Calculate NDVI"
   ]
  },
  {
   "cell_type": "markdown",
   "metadata": {
    "deletable": true,
    "editable": true
   },
   "source": [
    "Calculate NDVI as shown in [examples](https://github.com/data-cube/agdc-v2-examples/blob/eab9269e56cbbdb8a60c9503f0374e6da7535ee7/notebooks/Datacube_Summary.ipynb)"
   ]
  },
  {
   "cell_type": "code",
   "execution_count": 3,
   "metadata": {
    "collapsed": false,
    "deletable": true,
    "editable": true
   },
   "outputs": [
    {
     "data": {
      "text/plain": [
       "<xarray.Dataset>\n",
       "Dimensions:  (time: 1, x: 11792, y: 11792)\n",
       "Coordinates:\n",
       "  * time     (time) datetime64[ns] 2016-10-26T10:12:56.085000\n",
       "  * y        (y) float64 5.21e+06 5.21e+06 5.21e+06 5.21e+06 5.21e+06 ...\n",
       "  * x        (x) float64 1.351e+05 1.351e+05 1.351e+05 1.351e+05 1.351e+05 ...\n",
       "Data variables:\n",
       "    B04_10m  (time, y, x) int16 -999 -999 -999 -999 -999 -999 -999 -999 -999 ...\n",
       "    B08_10m  (time, y, x) int16 -999 -999 -999 -999 -999 -999 -999 -999 -999 ...\n",
       "Attributes:\n",
       "    crs: EPSG:32633"
      ]
     },
     "execution_count": 3,
     "metadata": {},
     "output_type": "execute_result"
    }
   ],
   "source": [
    "two_bands = dc.load(product='s2a_sen2cor_23_t32tps_10m', time=('2016-10-26T10:12:56.085000000'), measurements=['B04_10m', 'B08_10m'], group_by='solar_day')\n",
    "two_bands"
   ]
  },
  {
   "cell_type": "code",
   "execution_count": 7,
   "metadata": {
    "collapsed": false,
    "deletable": true,
    "editable": true
   },
   "outputs": [
    {
     "name": "stdout",
     "output_type": "stream",
     "text": [
      "<xarray.DataArray 'B04_10m' ()>\n",
      "array(4830.577284698397)\n",
      "<xarray.DataArray 'B08_10m' ()>\n",
      "array(5117.729009647837)\n"
     ]
    }
   ],
   "source": [
    "red = two_bands.B04_10m\n",
    "nir = two_bands.B08_10m\n",
    "\n",
    "print(red.mean())\n",
    "print(nir.mean())"
   ]
  },
  {
   "cell_type": "code",
   "execution_count": 9,
   "metadata": {
    "collapsed": false,
    "deletable": true,
    "editable": true,
    "scrolled": true
   },
   "outputs": [
    {
     "data": {
      "text/plain": [
       "<xarray.DataArray (time: 1, y: 11792, x: 11792)>\n",
       "array([[[-0., -0., ..., -0., -0.],\n",
       "        [-0., -0., ..., -0., -0.],\n",
       "        ..., \n",
       "        [-0., -0., ..., -0., -0.],\n",
       "        [-0., -0., ..., -0., -0.]]])\n",
       "Coordinates:\n",
       "  * time     (time) datetime64[ns] 2016-10-26T10:12:56.085000\n",
       "  * y        (y) float64 5.21e+06 5.21e+06 5.21e+06 5.21e+06 5.21e+06 ...\n",
       "  * x        (x) float64 1.351e+05 1.351e+05 1.351e+05 1.351e+05 1.351e+05 ..."
      ]
     },
     "execution_count": 9,
     "metadata": {},
     "output_type": "execute_result"
    }
   ],
   "source": [
    "ndvi = ((nir - red) / (nir + red))\n",
    "ndvi"
   ]
  },
  {
   "cell_type": "code",
   "execution_count": 10,
   "metadata": {
    "collapsed": false,
    "deletable": true,
    "editable": true,
    "scrolled": true
   },
   "outputs": [
    {
     "data": {
      "text/plain": [
       "(array([  8.39000000e+02,   2.64000000e+02,   3.09000000e+02,\n",
       "          3.43000000e+02,   4.00000000e+02,   4.63000000e+02,\n",
       "          7.23000000e+02,   1.87500000e+03,   2.27970000e+04,\n",
       "          5.92152820e+07,   4.89417980e+07,   1.27891310e+07,\n",
       "          6.56665300e+06,   4.00611500e+06,   2.55263000e+06,\n",
       "          1.78227200e+06,   1.20473000e+06,   7.35322000e+05,\n",
       "          4.30659000e+05,   7.98659000e+05]),\n",
       " array([-0.99580713, -0.89603808, -0.79626904, -0.6965    , -0.59673095,\n",
       "        -0.49696191, -0.39719287, -0.29742382, -0.19765478, -0.09788574,\n",
       "         0.00188331,  0.10165235,  0.20142139,  0.30119044,  0.40095948,\n",
       "         0.50072852,  0.60049757,  0.70026661,  0.80003566,  0.8998047 ,\n",
       "         0.99957374]),\n",
       " <a list of 20 Patch objects>)"
      ]
     },
     "execution_count": 10,
     "metadata": {},
     "output_type": "execute_result"
    }
   ],
   "source": [
    "plt.hist(ndvi, bins=20)"
   ]
  },
  {
   "cell_type": "code",
   "execution_count": 14,
   "metadata": {
    "collapsed": false,
    "deletable": true,
    "editable": true
   },
   "outputs": [
    {
     "data": {
      "text/plain": [
       "<xarray.DataArray ()>\n",
       "array(0.0765719931338179)"
      ]
     },
     "execution_count": 14,
     "metadata": {},
     "output_type": "execute_result"
    }
   ],
   "source": [
    "ndvi.mean()\n"
   ]
  },
  {
   "cell_type": "code",
   "execution_count": 19,
   "metadata": {
    "collapsed": false,
    "deletable": true,
    "editable": true,
    "scrolled": true
   },
   "outputs": [
    {
     "data": {
      "text/plain": [
       "<xarray.DataArray ()>\n",
       "array(0.15893948442418804)"
      ]
     },
     "execution_count": 19,
     "metadata": {},
     "output_type": "execute_result"
    }
   ],
   "source": [
    "np.std(ndvi)"
   ]
  },
  {
   "cell_type": "code",
   "execution_count": 20,
   "metadata": {
    "collapsed": false,
    "deletable": true,
    "editable": true
   },
   "outputs": [],
   "source": [
    "#This controls the colour maps used for plotting NDVI\n",
    "ndvi_cmap = matplotlib.colors.ListedColormap(['blue', '#ffcc66','#ffffcc' , '#ccff66' , '#2eb82e', '#009933' , '#006600'])\n",
    "ndvi_bounds = [-1, 0, 0.1, 0.25, 0.35, 0.5, 0.8, 1]\n",
    "ndvi_norm = matplotlib.colors.BoundaryNorm(ndvi_bounds, ndvi_cmap.N)"
   ]
  },
  {
   "cell_type": "code",
   "execution_count": 21,
   "metadata": {
    "collapsed": false,
    "deletable": true,
    "editable": true
   },
   "outputs": [
    {
     "data": {
      "text/plain": [
       "<matplotlib.collections.QuadMesh at 0x7efd9f4f9b70>"
      ]
     },
     "execution_count": 21,
     "metadata": {},
     "output_type": "execute_result"
    },
    {
     "data": {
      "image/png": "[encoded data removed]",
      "text/plain": [
       "<matplotlib.figure.Figure at 0x7efdc8f6db00>"
      ]
     },
     "metadata": {},
     "output_type": "display_data"
    }
   ],
   "source": [
    "ndvi.plot(cmap = ndvi_cmap)\n",
    "# Somehow produces an empty plot??"
   ]
  }
 ],
 "metadata": {
  "kernelspec": {
   "display_name": "Python 3",
   "language": "python",
   "name": "python3"
  },
  "language_info": {
   "codemirror_mode": {
    "name": "ipython",
    "version": 3
   },
   "file_extension": ".py",
   "mimetype": "text/x-python",
   "name": "python",
   "nbconvert_exporter": "python",
   "pygments_lexer": "ipython3",
   "version": "3.5.3"
  }
 },
 "nbformat": 4,
 "nbformat_minor": 2
}
