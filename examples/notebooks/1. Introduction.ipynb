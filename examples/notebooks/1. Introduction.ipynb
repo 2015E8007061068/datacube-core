{
 "cells": [
  {
   "cell_type": "markdown",
   "metadata": {},
   "source": [
    "# Australian Geoscience Datacube API\n",
    "This notebook describes connecting to the datacube and doing a basic query"
   ]
  },
  {
   "cell_type": "code",
   "execution_count": 2,
   "metadata": {
    "collapsed": true
   },
   "outputs": [],
   "source": [
    "import datacube.api\n",
    "from pprint import pprint"
   ]
  },
  {
   "cell_type": "markdown",
   "metadata": {},
   "source": [
    "By default, the API will use the configured database connection found in the config file.\n",
    "\n",
    "Details on setting up the config file and database and be found here:\n",
    "http://agdc-v2.readthedocs.org/en/develop/db_setup.html"
   ]
  },
  {
   "cell_type": "code",
   "execution_count": 3,
   "metadata": {
    "collapsed": false
   },
   "outputs": [],
   "source": [
    "dc = datacube.api.API()"
   ]
  },
  {
   "cell_type": "markdown",
   "metadata": {},
   "source": [
    "## Summary functions\n",
    "* __`list_fields()`__ - lists all fields that can be used for searching\n",
    "* __`list_field_values(field)`__ - lists all the values of the field found in the database\n",
    "\n",
    "Find out what fields we can search:"
   ]
  },
  {
   "cell_type": "code",
   "execution_count": 4,
   "metadata": {
    "collapsed": false
   },
   "outputs": [
    {
     "data": {
      "text/plain": [
       "[u'product',\n",
       " u'lat',\n",
       " u'sat_path',\n",
       " u'platform',\n",
       " u'lon',\n",
       " u'orbit',\n",
       " 'collection',\n",
       " u'instrument',\n",
       " u'sat_row',\n",
       " u'time',\n",
       " u'gsi',\n",
       " 'id']"
      ]
     },
     "execution_count": 4,
     "metadata": {},
     "output_type": "execute_result"
    }
   ],
   "source": [
    "dc.list_fields()"
   ]
  },
  {
   "cell_type": "markdown",
   "metadata": {},
   "source": [
    "The `product` and `platform` fields looks interesting. Find out more about them:"
   ]
  },
  {
   "cell_type": "code",
   "execution_count": 5,
   "metadata": {
    "collapsed": false
   },
   "outputs": [
    {
     "data": {
      "text/plain": [
       "[u'NBAR']"
      ]
     },
     "execution_count": 5,
     "metadata": {},
     "output_type": "execute_result"
    }
   ],
   "source": [
    "dc.list_field_values('product')"
   ]
  },
  {
   "cell_type": "code",
   "execution_count": 6,
   "metadata": {
    "collapsed": false
   },
   "outputs": [
    {
     "data": {
      "text/plain": [
       "[u'LANDSAT_5']"
      ]
     },
     "execution_count": 6,
     "metadata": {},
     "output_type": "execute_result"
    }
   ],
   "source": [
    "dc.list_field_values('platform')"
   ]
  },
  {
   "cell_type": "markdown",
   "metadata": {},
   "source": [
    "## Access functions\n",
    "There are several API calls the describe and provide data in different ways:\n",
    "\n",
    "* __`get_descriptor()`__ - provides a descripton of the data for a given query\n",
    "* __`get_data()`__ - provides the data as `xarray.DataArray`s for each variable.  This is usually called based on information returned by the `get_descriptor` call.\n",
    "* __`get_data_array()`__ - returns an `xarray.DataArray` n-dimensional object, with the variables stack along the dimension labelled `variables`.\n",
    "* __`get_dataset()`__ - return an `xarray.Dataset` object, containing an `xarray.DataArray` for each variable."
   ]
  },
  {
   "cell_type": "markdown",
   "metadata": {},
   "source": [
    "###  get_descriptor\n",
    "We can make a query and find out about the data:\n",
    "\n",
    "The query is a nested dict of variables of terms."
   ]
  },
  {
   "cell_type": "code",
   "execution_count": 7,
   "metadata": {
    "collapsed": false
   },
   "outputs": [
    {
     "name": "stdout",
     "output_type": "stream",
     "text": [
      "{u'ls5_nbar': {'dimensions': [u'time', u'latitude', u'longitude'],\n",
      "               'irregular_indices': {u'time': array(['1990-03-03T10:11:16.000000000+1100',\n",
      "       '1990-05-06T09:10:28.000000000+1000',\n",
      "       '1990-06-07T09:10:29.000000000+1000',\n",
      "       '1990-07-25T09:10:22.000000000+1000'], dtype='datetime64[ns]')},\n",
      "               'result_max': (numpy.datetime64('1990-07-25T09:10:22.000000000+1000'),\n",
      "                              -33.000125,\n",
      "                              151.999875),\n",
      "               'result_min': (numpy.datetime64('1990-03-03T10:11:16.000000000+1100'),\n",
      "                              -35.999874999999996,\n",
      "                              148.000125),\n",
      "               'result_shape': (4, 12000, 16000),\n",
      "               'variables': {u'band_10': {'datatype_name': dtype('int16'),\n",
      "                                          'nodata_value': -999},\n",
      "                             u'band_20': {'datatype_name': dtype('int16'),\n",
      "                                          'nodata_value': -999},\n",
      "                             u'band_30': {'datatype_name': dtype('int16'),\n",
      "                                          'nodata_value': -999},\n",
      "                             u'band_40': {'datatype_name': dtype('int16'),\n",
      "                                          'nodata_value': -999},\n",
      "                             u'band_50': {'datatype_name': dtype('int16'),\n",
      "                                          'nodata_value': -999},\n",
      "                             u'band_70': {'datatype_name': dtype('int16'),\n",
      "                                          'nodata_value': -999}}}}\n"
     ]
    }
   ],
   "source": [
    "query = {\n",
    "    'product': 'NBAR',\n",
    "    'platform': 'LANDSAT_5',\n",
    "}\n",
    "pprint(dc.get_descriptor(query, include_storage_units=False))"
   ]
  },
  {
   "cell_type": "markdown",
   "metadata": {},
   "source": [
    "The query can be restricted to provide information on particular range along a dimension.\n",
    "\n",
    "For spatial queries, the dimension names should be used"
   ]
  },
  {
   "cell_type": "markdown",
   "metadata": {},
   "source": [
    "### get_data\n",
    "This retrives the data, usually as a subset, based on the information provided by the `get_descriptor` call.\n",
    "\n",
    "The query is in a similar form to the `get_descriptor` call, with the addition of a `variables` parameter.  If not specified, all variables are returned.\n",
    "The query also accepts an `array_range` parameter on a dimension that provides a subset based on array indicies, rather than labelled coordinates."
   ]
  },
  {
   "cell_type": "code",
   "execution_count": 9,
   "metadata": {
    "collapsed": false
   },
   "outputs": [
    {
     "ename": "KeyError",
     "evalue": "'coordinate_reference_system'",
     "output_type": "error",
     "traceback": [
      "\u001b[1;31m---------------------------------------------------------------------------\u001b[0m",
      "\u001b[1;31mKeyError\u001b[0m                                  Traceback (most recent call last)",
      "\u001b[1;32m<ipython-input-9-20d11bd2fd77>\u001b[0m in \u001b[0;36m<module>\u001b[1;34m()\u001b[0m\n\u001b[0;32m     12\u001b[0m     }\n\u001b[0;32m     13\u001b[0m }\n\u001b[1;32m---> 14\u001b[1;33m \u001b[0mdata\u001b[0m \u001b[1;33m=\u001b[0m \u001b[0mdc\u001b[0m\u001b[1;33m.\u001b[0m\u001b[0mget_data\u001b[0m\u001b[1;33m(\u001b[0m\u001b[0mquery\u001b[0m\u001b[1;33m)\u001b[0m\u001b[1;33m\u001b[0m\u001b[0m\n\u001b[0m\u001b[0;32m     15\u001b[0m \u001b[0mpprint\u001b[0m\u001b[1;33m(\u001b[0m\u001b[0mdata\u001b[0m\u001b[1;33m)\u001b[0m\u001b[1;33m\u001b[0m\u001b[0m\n\u001b[0;32m     16\u001b[0m \u001b[0mdata\u001b[0m\u001b[1;33m[\u001b[0m\u001b[1;34m'arrays'\u001b[0m\u001b[1;33m]\u001b[0m\u001b[1;33m[\u001b[0m\u001b[1;34m'band_30'\u001b[0m\u001b[1;33m]\u001b[0m\u001b[1;33m\u001b[0m\u001b[0m\n",
      "\u001b[1;32mc:\\users\\u42007\\documents\\github\\agdc-v2\\datacube\\api\\_api.py\u001b[0m in \u001b[0;36mget_data\u001b[1;34m(self, descriptor, storage_units_descriptor)\u001b[0m\n\u001b[0;32m    260\u001b[0m             \u001b[1;31m#data_response[stype] = _create_data_response(xarrays)\u001b[0m\u001b[1;33m\u001b[0m\u001b[1;33m\u001b[0m\u001b[0m\n\u001b[0;32m    261\u001b[0m             \u001b[1;31m# TODO: Return multiple storages, or wait until we suppport reprojection\u001b[0m\u001b[1;33m\u001b[0m\u001b[1;33m\u001b[0m\u001b[0m\n\u001b[1;32m--> 262\u001b[1;33m             \u001b[1;32mreturn\u001b[0m \u001b[0m_create_data_response\u001b[0m\u001b[1;33m(\u001b[0m\u001b[0mxarrays\u001b[0m\u001b[1;33m[\u001b[0m\u001b[1;36m0\u001b[0m\u001b[1;33m]\u001b[0m\u001b[1;33m)\u001b[0m\u001b[1;33m\u001b[0m\u001b[0m\n\u001b[0m\u001b[0;32m    263\u001b[0m         \u001b[1;32mreturn\u001b[0m \u001b[0mdata_response\u001b[0m\u001b[1;33m\u001b[0m\u001b[0m\n\u001b[0;32m    264\u001b[0m \u001b[1;33m\u001b[0m\u001b[0m\n",
      "\u001b[1;32mc:\\users\\u42007\\documents\\github\\agdc-v2\\datacube\\api\\_api.py\u001b[0m in \u001b[0;36m_create_data_response\u001b[1;34m(xarrays)\u001b[0m\n\u001b[0;32m    418\u001b[0m                           for dim in dimensions],\n\u001b[0;32m    419\u001b[0m         \u001b[1;34m'size'\u001b[0m\u001b[1;33m:\u001b[0m \u001b[0msample_xarray\u001b[0m\u001b[1;33m.\u001b[0m\u001b[0mshape\u001b[0m\u001b[1;33m,\u001b[0m\u001b[1;33m\u001b[0m\u001b[0m\n\u001b[1;32m--> 420\u001b[1;33m         \u001b[1;34m'coordinate_reference_systems'\u001b[0m\u001b[1;33m:\u001b[0m \u001b[1;33m[\u001b[0m\u001b[0msample_xarray\u001b[0m\u001b[1;33m[\u001b[0m\u001b[0mdim\u001b[0m\u001b[1;33m]\u001b[0m\u001b[1;33m[\u001b[0m\u001b[1;34m'coordinate_reference_system'\u001b[0m\u001b[1;33m]\u001b[0m \u001b[1;32mfor\u001b[0m \u001b[0mdim\u001b[0m \u001b[1;32min\u001b[0m \u001b[0mdimensions\u001b[0m\u001b[1;33m]\u001b[0m\u001b[1;33m\u001b[0m\u001b[0m\n\u001b[0m\u001b[0;32m    421\u001b[0m \u001b[1;33m\u001b[0m\u001b[0m\n\u001b[0;32m    422\u001b[0m     }\n",
      "\u001b[1;32mC:\\Users\\u42007\\AppData\\Local\\Continuum\\Anaconda2\\envs\\python27\\lib\\site-packages\\xarray\\core\\dataarray.pyc\u001b[0m in \u001b[0;36m__getitem__\u001b[1;34m(self, key)\u001b[0m\n\u001b[0;32m    393\u001b[0m                 \u001b[0mvar\u001b[0m \u001b[1;33m=\u001b[0m \u001b[0mself\u001b[0m\u001b[1;33m.\u001b[0m\u001b[0m_coords\u001b[0m\u001b[1;33m[\u001b[0m\u001b[0mkey\u001b[0m\u001b[1;33m]\u001b[0m\u001b[1;33m\u001b[0m\u001b[0m\n\u001b[0;32m    394\u001b[0m             \u001b[1;32mexcept\u001b[0m \u001b[0mKeyError\u001b[0m\u001b[1;33m:\u001b[0m\u001b[1;33m\u001b[0m\u001b[0m\n\u001b[1;32m--> 395\u001b[1;33m                 \u001b[0m_\u001b[0m\u001b[1;33m,\u001b[0m \u001b[0mkey\u001b[0m\u001b[1;33m,\u001b[0m \u001b[0mvar\u001b[0m \u001b[1;33m=\u001b[0m \u001b[0m_get_virtual_variable\u001b[0m\u001b[1;33m(\u001b[0m\u001b[0mself\u001b[0m\u001b[1;33m.\u001b[0m\u001b[0m_coords\u001b[0m\u001b[1;33m,\u001b[0m \u001b[0mkey\u001b[0m\u001b[1;33m)\u001b[0m\u001b[1;33m\u001b[0m\u001b[0m\n\u001b[0m\u001b[0;32m    396\u001b[0m \u001b[1;33m\u001b[0m\u001b[0m\n\u001b[0;32m    397\u001b[0m             \u001b[1;32mreturn\u001b[0m \u001b[0mself\u001b[0m\u001b[1;33m.\u001b[0m\u001b[0m_replace_maybe_drop_dims\u001b[0m\u001b[1;33m(\u001b[0m\u001b[0mvar\u001b[0m\u001b[1;33m,\u001b[0m \u001b[0mname\u001b[0m\u001b[1;33m=\u001b[0m\u001b[0mkey\u001b[0m\u001b[1;33m)\u001b[0m\u001b[1;33m\u001b[0m\u001b[0m\n",
      "\u001b[1;32mC:\\Users\\u42007\\AppData\\Local\\Continuum\\Anaconda2\\envs\\python27\\lib\\site-packages\\xarray\\core\\dataset.pyc\u001b[0m in \u001b[0;36m_get_virtual_variable\u001b[1;34m(variables, key)\u001b[0m\n\u001b[0;32m     43\u001b[0m     \u001b[0msplit_key\u001b[0m \u001b[1;33m=\u001b[0m \u001b[0mkey\u001b[0m\u001b[1;33m.\u001b[0m\u001b[0msplit\u001b[0m\u001b[1;33m(\u001b[0m\u001b[1;34m'.'\u001b[0m\u001b[1;33m,\u001b[0m \u001b[1;36m1\u001b[0m\u001b[1;33m)\u001b[0m\u001b[1;33m\u001b[0m\u001b[0m\n\u001b[0;32m     44\u001b[0m     \u001b[1;32mif\u001b[0m \u001b[0mlen\u001b[0m\u001b[1;33m(\u001b[0m\u001b[0msplit_key\u001b[0m\u001b[1;33m)\u001b[0m \u001b[1;33m!=\u001b[0m \u001b[1;36m2\u001b[0m\u001b[1;33m:\u001b[0m\u001b[1;33m\u001b[0m\u001b[0m\n\u001b[1;32m---> 45\u001b[1;33m         \u001b[1;32mraise\u001b[0m \u001b[0mKeyError\u001b[0m\u001b[1;33m(\u001b[0m\u001b[0mkey\u001b[0m\u001b[1;33m)\u001b[0m\u001b[1;33m\u001b[0m\u001b[0m\n\u001b[0m\u001b[0;32m     46\u001b[0m \u001b[1;33m\u001b[0m\u001b[0m\n\u001b[0;32m     47\u001b[0m     \u001b[0mref_name\u001b[0m\u001b[1;33m,\u001b[0m \u001b[0mvar_name\u001b[0m \u001b[1;33m=\u001b[0m \u001b[0msplit_key\u001b[0m\u001b[1;33m\u001b[0m\u001b[0m\n",
      "\u001b[1;31mKeyError\u001b[0m: 'coordinate_reference_system'"
     ]
    }
   ],
   "source": [
    "query = {\n",
    "    'product': 'NBAR',\n",
    "    'platform': 'LANDSAT_5',\n",
    "    'variables': ['band_30', 'band_40'],\n",
    "    'dimensions': {\n",
    "        'longitude' : {\n",
    "            'range': (148.5, 149.5),\n",
    "        },\n",
    "        'latitude' : {\n",
    "            'range': (-34.8, -35.8),\n",
    "        },\n",
    "    }\n",
    "}\n",
    "data = dc.get_data(query)\n",
    "pprint(data)\n",
    "data['arrays']['band_30']"
   ]
  },
  {
   "cell_type": "markdown",
   "metadata": {},
   "source": [
    "### get_data_array\n",
    "This is a convinence function that wraps the `get_data` function, returning only the data, stacked in a single `xarray.DataArray`.\n",
    "\n",
    "The variables are stacked along the `variable` dimension."
   ]
  },
  {
   "cell_type": "code",
   "execution_count": 10,
   "metadata": {
    "collapsed": false
   },
   "outputs": [
    {
     "data": {
      "text/plain": [
       "<xarray.DataArray u'ls5_nbar' (variable: 6, time: 4, latitude: 400, longitude: 400)>\n",
       "dask.array<concate..., shape=(6, 4, 400, 400), dtype=float64, chunksize=(1, 1, 200, 200)>\n",
       "Coordinates:\n",
       "  * time       (time) datetime64[ns] 1990-03-02T23:11:16 1990-05-05T23:10:28 ...\n",
       "  * latitude   (latitude) float64 -34.95 -34.95 -34.95 -34.95 -34.95 -34.95 ...\n",
       "  * longitude  (longitude) float64 149.0 149.0 149.0 149.0 149.0 149.0 149.0 ...\n",
       "  * variable   (variable) <U7 u'band_10' u'band_20' u'band_30' u'band_40' ..."
      ]
     },
     "execution_count": 10,
     "metadata": {},
     "output_type": "execute_result"
    }
   ],
   "source": [
    "nbar = dc.get_data_array(product='NBAR', platform='LANDSAT_5', latitude=(-34.95,-35.05), longitude=(148.95,149.05))\n",
    "nbar"
   ]
  },
  {
   "cell_type": "code",
   "execution_count": 11,
   "metadata": {
    "collapsed": false
   },
   "outputs": [
    {
     "data": {
      "text/plain": [
       "array([u'band_10', u'band_20', u'band_30', u'band_40', u'band_50',\n",
       "       u'band_70'], \n",
       "      dtype='<U7')"
      ]
     },
     "execution_count": 11,
     "metadata": {},
     "output_type": "execute_result"
    }
   ],
   "source": [
    "nbar['variable'].values"
   ]
  },
  {
   "cell_type": "markdown",
   "metadata": {},
   "source": [
    "We can "
   ]
  },
  {
   "cell_type": "code",
   "execution_count": 14,
   "metadata": {
    "collapsed": false
   },
   "outputs": [],
   "source": [
    "red = nbar.sel(variable='band_30')\n",
    "nir = nbar.sel(variable='band_40')"
   ]
  },
  {
   "cell_type": "code",
   "execution_count": 15,
   "metadata": {
    "collapsed": false
   },
   "outputs": [],
   "source": [
    "ndvi = (nir - red) / (nir + red)"
   ]
  },
  {
   "cell_type": "code",
   "execution_count": 16,
   "metadata": {
    "collapsed": false
   },
   "outputs": [
    {
     "ename": "AttributeError",
     "evalue": "'DataArray' object has no attribute 'merge'",
     "output_type": "error",
     "traceback": [
      "\u001b[1;31m---------------------------------------------------------------------------\u001b[0m",
      "\u001b[1;31mAttributeError\u001b[0m                            Traceback (most recent call last)",
      "\u001b[1;32m<ipython-input-16-92b38a8e11d0>\u001b[0m in \u001b[0;36m<module>\u001b[1;34m()\u001b[0m\n\u001b[1;32m----> 1\u001b[1;33m \u001b[0mnbar\u001b[0m\u001b[1;33m.\u001b[0m\u001b[0mmerge\u001b[0m\u001b[1;33m(\u001b[0m\u001b[0mndvi\u001b[0m\u001b[1;33m)\u001b[0m\u001b[1;33m\u001b[0m\u001b[0m\n\u001b[0m",
      "\u001b[1;32mC:\\Users\\u42007\\AppData\\Local\\Continuum\\Anaconda2\\envs\\python27\\lib\\site-packages\\xarray\\core\\common.pyc\u001b[0m in \u001b[0;36m__getattr__\u001b[1;34m(self, name)\u001b[0m\n\u001b[0;32m    135\u001b[0m                     \u001b[1;32mreturn\u001b[0m \u001b[0msource\u001b[0m\u001b[1;33m[\u001b[0m\u001b[0mname\u001b[0m\u001b[1;33m]\u001b[0m\u001b[1;33m\u001b[0m\u001b[0m\n\u001b[0;32m    136\u001b[0m         raise AttributeError(\"%r object has no attribute %r\" %\n\u001b[1;32m--> 137\u001b[1;33m                              (type(self).__name__, name))\n\u001b[0m\u001b[0;32m    138\u001b[0m \u001b[1;33m\u001b[0m\u001b[0m\n\u001b[0;32m    139\u001b[0m     \u001b[1;32mdef\u001b[0m \u001b[0m__setattr__\u001b[0m\u001b[1;33m(\u001b[0m\u001b[0mself\u001b[0m\u001b[1;33m,\u001b[0m \u001b[0mname\u001b[0m\u001b[1;33m,\u001b[0m \u001b[0mvalue\u001b[0m\u001b[1;33m)\u001b[0m\u001b[1;33m:\u001b[0m\u001b[1;33m\u001b[0m\u001b[0m\n",
      "\u001b[1;31mAttributeError\u001b[0m: 'DataArray' object has no attribute 'merge'"
     ]
    }
   ],
   "source": [
    "nbar.merge(ndvi)"
   ]
  },
  {
   "cell_type": "code",
   "execution_count": null,
   "metadata": {
    "collapsed": true
   },
   "outputs": [],
   "source": [
    "import xarray"
   ]
  },
  {
   "cell_type": "code",
   "execution_count": null,
   "metadata": {
    "collapsed": false
   },
   "outputs": [],
   "source": [
    "xarray.concat([ndvi], dim='variable')"
   ]
  },
  {
   "cell_type": "code",
   "execution_count": null,
   "metadata": {
    "collapsed": false
   },
   "outputs": [],
   "source": [
    "ndvi['variable'][0] = 'ndvi'"
   ]
  },
  {
   "cell_type": "code",
   "execution_count": null,
   "metadata": {
    "collapsed": true
   },
   "outputs": [],
   "source": []
  }
 ],
 "metadata": {
  "kernelspec": {
   "display_name": "Python 2",
   "language": "python",
   "name": "python2"
  },
  "language_info": {
   "codemirror_mode": {
    "name": "ipython",
    "version": 2
   },
   "file_extension": ".py",
   "mimetype": "text/x-python",
   "name": "python",
   "nbconvert_exporter": "python",
   "pygments_lexer": "ipython2",
   "version": "2.7.11"
  }
 },
 "nbformat": 4,
 "nbformat_minor": 0
}
