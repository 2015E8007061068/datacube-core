{
 "cells": [
  {
   "cell_type": "markdown",
   "metadata": {},
   "source": [
    "# Australian Geoscience Datacube API\n",
    "This notebook describes connecting to the datacube and doing a basic query"
   ]
  },
  {
   "cell_type": "code",
   "execution_count": 1,
   "metadata": {
    "collapsed": true
   },
   "outputs": [],
   "source": [
    "import datacube.api\n",
    "from pprint import pprint"
   ]
  },
  {
   "cell_type": "markdown",
   "metadata": {},
   "source": [
    "By default, the API will use the configured database connection found in the config file.\n",
    "\n",
    "Details on setting up the config file and database and be found here:\n",
    "http://agdc-v2.readthedocs.org/en/develop/db_setup.html"
   ]
  },
  {
   "cell_type": "code",
   "execution_count": 2,
   "metadata": {
    "collapsed": false
   },
   "outputs": [],
   "source": [
    "dc = datacube.api.API()"
   ]
  },
  {
   "cell_type": "markdown",
   "metadata": {},
   "source": [
    "## Summary functions\n",
    "* __`list_fields()`__ - lists all fields that can be used for searching\n",
    "* __`list_field_values(field)`__ - lists all the values of the field found in the database\n",
    "\n",
    "Find out what fields we can search:"
   ]
  },
  {
   "cell_type": "code",
   "execution_count": 3,
   "metadata": {
    "collapsed": false
   },
   "outputs": [
    {
     "data": {
      "text/plain": [
       "[u'product',\n",
       " u'lat',\n",
       " u'sat_path',\n",
       " u'platform',\n",
       " u'lon',\n",
       " u'orbit',\n",
       " 'collection',\n",
       " u'instrument',\n",
       " u'sat_row',\n",
       " u'time',\n",
       " u'gsi',\n",
       " 'id']"
      ]
     },
     "execution_count": 3,
     "metadata": {},
     "output_type": "execute_result"
    }
   ],
   "source": [
    "dc.list_fields()"
   ]
  },
  {
   "cell_type": "markdown",
   "metadata": {},
   "source": [
    "The `product` and `platform` fields looks interesting. Find out more about them:"
   ]
  },
  {
   "cell_type": "code",
   "execution_count": 4,
   "metadata": {
    "collapsed": false
   },
   "outputs": [
    {
     "data": {
      "text/plain": [
       "[u'PQ', u'NBAR']"
      ]
     },
     "execution_count": 4,
     "metadata": {},
     "output_type": "execute_result"
    }
   ],
   "source": [
    "dc.list_field_values('product')"
   ]
  },
  {
   "cell_type": "code",
   "execution_count": 5,
   "metadata": {
    "collapsed": false
   },
   "outputs": [
    {
     "data": {
      "text/plain": [
       "[u'LANDSAT_5']"
      ]
     },
     "execution_count": 5,
     "metadata": {},
     "output_type": "execute_result"
    }
   ],
   "source": [
    "dc.list_field_values('platform')"
   ]
  },
  {
   "cell_type": "markdown",
   "metadata": {},
   "source": [
    "## Query and Access functions\n",
    "There are several API calls the describe and provide data in different ways:\n",
    "\n",
    "* __`get_descriptor()`__ - provides a descripton of the data for a given query\n",
    "* __`get_data()`__ - provides the data as `xarray.DataArray`s for each variable.  This is usually called based on information returned by the `get_descriptor` call.\n",
    "* __`get_data_array()`__ - returns an `xarray.DataArray` n-dimensional object, with the variables stack along the dimension labelled `variables`.\n",
    "* __`get_dataset()`__ - return an `xarray.Dataset` object, containing an `xarray.DataArray` for each variable."
   ]
  },
  {
   "cell_type": "markdown",
   "metadata": {},
   "source": [
    "###  get_descriptor\n",
    "We can make a query and find out about the data:\n",
    "\n",
    "The query is a nested dict of variables of terms."
   ]
  },
  {
   "cell_type": "code",
   "execution_count": 6,
   "metadata": {
    "collapsed": false
   },
   "outputs": [
    {
     "name": "stdout",
     "output_type": "stream",
     "text": [
      "{u'ls5_nbar_albers': {'dimensions': [u'time', u'y', u'x'],\n",
      "                      'irregular_indices': {u'time': array(['1990-03-03T10:11:16.000000000+1100',\n",
      "       '1990-03-03T10:11:39.000000000+1100',\n",
      "       '1990-04-04T09:10:42.000000000+1000', ...,\n",
      "       '1996-11-14T10:11:26.000000000+1100',\n",
      "       '1996-11-30T10:11:47.000000000+1100',\n",
      "       '1996-11-30T10:12:11.000000000+1100'], dtype='datetime64[ns]')},\n",
      "                      'result_max': (numpy.datetime64('1996-11-30T10:12:11.000000000+1100'),\n",
      "                                     -1100012.5,\n",
      "                                     2299987.5),\n",
      "                      'result_min': (numpy.datetime64('1990-03-03T10:11:16.000000000+1100'),\n",
      "                                     -4999987.5,\n",
      "                                     -1999987.5),\n",
      "                      'result_shape': (1051, 156000, 172000),\n",
      "                      'variables': {u'band_10': {'datatype_name': dtype('int16'),\n",
      "                                                 'nodata_value': -999},\n",
      "                                    u'band_20': {'datatype_name': dtype('int16'),\n",
      "                                                 'nodata_value': -999},\n",
      "                                    u'band_30': {'datatype_name': dtype('int16'),\n",
      "                                                 'nodata_value': -999},\n",
      "                                    u'band_40': {'datatype_name': dtype('int16'),\n",
      "                                                 'nodata_value': -999},\n",
      "                                    u'band_50': {'datatype_name': dtype('int16'),\n",
      "                                                 'nodata_value': -999},\n",
      "                                    u'band_70': {'datatype_name': dtype('int16'),\n",
      "                                                 'nodata_value': -999}}}}\n"
     ]
    }
   ],
   "source": [
    "query = {\n",
    "    'product': 'NBAR',\n",
    "    'platform': 'LANDSAT_5',\n",
    "}\n",
    "descriptor = dc.get_descriptor(query, include_storage_units=False)\n",
    "pprint(descriptor)"
   ]
  },
  {
   "cell_type": "markdown",
   "metadata": {},
   "source": [
    "The query can be restricted to provide information on particular range along a dimension.\n",
    "\n",
    "For spatial queries, the dimension names should be used.  The default projection for the range query values is in WGS84, although"
   ]
  },
  {
   "cell_type": "code",
   "execution_count": 11,
   "metadata": {
    "collapsed": false
   },
   "outputs": [
    {
     "name": "stdout",
     "output_type": "stream",
     "text": [
      "{u'ls5_nbar_albers': {'dimensions': [u'time', u'y', u'x'],\n",
      "                      'irregular_indices': {u'time': array(['1990-06-05T09:22:26.000000000+1000',\n",
      "       '1990-06-05T09:22:50.000000000+1000',\n",
      "       '1990-06-05T09:23:14.000000000+1000',\n",
      "       '1990-06-07T09:10:29.000000000+1000',\n",
      "       '1990-06-07T09:11:16.000000000+1000',\n",
      "       '1990-06-14T09:16:14.000000000+1000',\n",
      "       '1990-06-14T09:17:02.000000000+1000',\n",
      "       '1990-06-14T09:17:26.000000000+1000',\n",
      "       '1990-06-21T09:22:25.000000000+1000',\n",
      "       '1990-06-21T09:22:49.000000000+1000',\n",
      "       '1990-06-30T09:17:02.000000000+1000',\n",
      "       '1990-06-30T09:17:26.000000000+1000'], dtype='datetime64[ns]')},\n",
      "                      'result_max': (numpy.datetime64('1990-06-30T09:17:26.000000000+1000'),\n",
      "                                     -3896912.5,\n",
      "                                     1591137.5),\n",
      "                      'result_min': (numpy.datetime64('1990-06-05T09:22:26.000000000+1000'),\n",
      "                                     -4019112.5,\n",
      "                                     1486437.5),\n",
      "                      'result_shape': (12, 4889, 4189),\n",
      "                      'variables': {u'band_10': {'datatype_name': dtype('int16'),\n",
      "                                                 'nodata_value': -999},\n",
      "                                    u'band_20': {'datatype_name': dtype('int16'),\n",
      "                                                 'nodata_value': -999},\n",
      "                                    u'band_30': {'datatype_name': dtype('int16'),\n",
      "                                                 'nodata_value': -999},\n",
      "                                    u'band_40': {'datatype_name': dtype('int16'),\n",
      "                                                 'nodata_value': -999},\n",
      "                                    u'band_50': {'datatype_name': dtype('int16'),\n",
      "                                                 'nodata_value': -999},\n",
      "                                    u'band_70': {'datatype_name': dtype('int16'),\n",
      "                                                 'nodata_value': -999}}}}\n"
     ]
    }
   ],
   "source": [
    "query = {\n",
    "    'product': 'NBAR',\n",
    "    'platform': 'LANDSAT_5',\n",
    "    'dimensions': {\n",
    "        'x' : {\n",
    "            'range': (148.5, 149.5),\n",
    "        },\n",
    "        'y' : {\n",
    "            'range': (-34.8, -35.8),\n",
    "        },\n",
    "        'time': {\n",
    "            'range': ((1990, 6, 1), (1990, 7 ,1)),\n",
    "        }\n",
    "    }\n",
    "}\n",
    "pprint(dc.get_descriptor(query, include_storage_units=False))"
   ]
  },
  {
   "cell_type": "markdown",
   "metadata": {},
   "source": [
    "### get_data\n",
    "This retrives the data, usually as a subset, based on the information provided by the `get_descriptor` call.\n",
    "\n",
    "The query is in a similar form to the `get_descriptor` call, with the addition of a `variables` parameter.  If not specified, all variables are returned.\n",
    "The query also accepts an `array_range` parameter on a dimension that provides a subset based on array indicies, rather than labelled coordinates."
   ]
  },
  {
   "cell_type": "code",
   "execution_count": 12,
   "metadata": {
    "collapsed": false
   },
   "outputs": [
    {
     "data": {
      "text/plain": [
       "['dimensions',\n",
       " 'arrays',\n",
       " 'element_sizes',\n",
       " 'indices',\n",
       " 'coordinate_reference_systems',\n",
       " 'size']"
      ]
     },
     "execution_count": 12,
     "metadata": {},
     "output_type": "execute_result"
    }
   ],
   "source": [
    "query = {\n",
    "    'product': 'NBAR',\n",
    "    'platform': 'LANDSAT_5',\n",
    "    'variables': ['band_30', 'band_40'],\n",
    "    'dimensions': {\n",
    "        'x' : {\n",
    "            'range': (148.5, 149.5),\n",
    "            'array_range': (0, 1),\n",
    "        },\n",
    "        'y' : {\n",
    "            'range': (-34.8, -35.8),\n",
    "            'array_range': (0, 1),\n",
    "        },\n",
    "        'time': {\n",
    "            'range': ((1990, 4, 1), (1990, 5, 1))\n",
    "        }\n",
    "    }\n",
    "}\n",
    "data = dc.get_data(query)\n",
    "data.keys()"
   ]
  },
  {
   "cell_type": "markdown",
   "metadata": {},
   "source": [
    "### get_data_array\n",
    "This is a convinence function that wraps the `get_data` function, returning only the data, stacked in a single `xarray.DataArray`.\n",
    "\n",
    "The variables are stacked along the `variable` dimension."
   ]
  },
  {
   "cell_type": "code",
   "execution_count": 9,
   "metadata": {
    "collapsed": false
   },
   "outputs": [
    {
     "data": {
      "text/plain": [
       "<xarray.DataArray u'ls5_nbar_albers' (variable: 6, time: 182, y: 489, x: 420)>\n",
       "dask.array<concate..., shape=(6, 182, 489, 420), dtype=float64, chunksize=(1, 1, 489, 420)>\n",
       "Coordinates:\n",
       "  * time      (time) datetime64[ns] 1990-03-02T23:11:16 1990-03-02T23:11:39 ...\n",
       "  * y         (y) float64 -3.919e+06 -3.919e+06 -3.919e+06 -3.919e+06 ...\n",
       "  * x         (x) float64 1.538e+06 1.538e+06 1.538e+06 1.538e+06 1.538e+06 ...\n",
       "  * variable  (variable) <U7 u'band_10' u'band_20' u'band_30' u'band_40' ..."
      ]
     },
     "execution_count": 9,
     "metadata": {},
     "output_type": "execute_result"
    }
   ],
   "source": [
    "nbar = dc.get_data_array(product='NBAR', platform='LANDSAT_5', y=(-34.95,-35.05), x=(148.95,149.05))\n",
    "nbar"
   ]
  },
  {
   "cell_type": "markdown",
   "metadata": {
    "collapsed": true
   },
   "source": [
    "### get_dataset\n",
    "This is a convinience fuction similar to `get_data_array`, returning the data of the query as a `xarray.Dataset` object."
   ]
  },
  {
   "cell_type": "code",
   "execution_count": 13,
   "metadata": {
    "collapsed": false
   },
   "outputs": [
    {
     "data": {
      "text/plain": [
       "<xarray.Dataset>\n",
       "Dimensions:  (time: 182, x: 420, y: 489)\n",
       "Coordinates:\n",
       "  * time     (time) datetime64[ns] 1990-03-02T23:11:16 1990-03-02T23:11:39 ...\n",
       "  * y        (y) float64 -3.919e+06 -3.919e+06 -3.919e+06 -3.919e+06 ...\n",
       "  * x        (x) float64 1.538e+06 1.538e+06 1.538e+06 1.538e+06 1.538e+06 ...\n",
       "Data variables:\n",
       "    band_20  (time, y, x) float64 729.0 612.0 579.0 629.0 862.0 1.027e+03 ...\n",
       "    band_10  (time, y, x) float64 476.0 375.0 357.0 416.0 586.0 708.0 730.0 ...\n",
       "    band_50  (time, y, x) float64 2.175e+03 634.0 245.0 546.0 1.788e+03 ...\n",
       "    band_40  (time, y, x) float64 1.262e+03 536.0 484.0 1.081e+03 2.132e+03 ...\n",
       "    band_30  (time, y, x) float64 856.0 592.0 528.0 642.0 932.0 1.137e+03 ...\n",
       "    band_70  (time, y, x) float64 1.428e+03 493.0 206.0 395.0 1.031e+03 ..."
      ]
     },
     "execution_count": 13,
     "metadata": {},
     "output_type": "execute_result"
    }
   ],
   "source": [
    "dc.get_dataset(product='NBAR', platform='LANDSAT_5', y=(-34.95,-35.05), x=(148.95,149.05))"
   ]
  }
 ],
 "metadata": {
  "kernelspec": {
   "display_name": "Python 2",
   "language": "python",
   "name": "python2"
  },
  "language_info": {
   "codemirror_mode": {
    "name": "ipython",
    "version": 2
   },
   "file_extension": ".py",
   "mimetype": "text/x-python",
   "name": "python",
   "nbconvert_exporter": "python",
   "pygments_lexer": "ipython2",
   "version": "2.7.5"
  }
 },
 "nbformat": 4,
 "nbformat_minor": 0
}
