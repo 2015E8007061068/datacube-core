{
 "cells": [
  {
   "cell_type": "markdown",
   "metadata": {},
   "source": [
    "# Australian Geoscience Datacube API\n",
    "This notebook describes connecting to the datacube and doing a basic query"
   ]
  },
  {
   "cell_type": "code",
   "execution_count": 36,
   "metadata": {
    "collapsed": true
   },
   "outputs": [],
   "source": [
    "import datacube.api\n",
    "from pprint import pprint"
   ]
  },
  {
   "cell_type": "markdown",
   "metadata": {},
   "source": [
    "By default, the API will use the configured database connection found in the config file.\n",
    "\n",
    "Details on setting up the config file and database and be found here:\n",
    "http://agdc-v2.readthedocs.org/en/develop/db_setup.html"
   ]
  },
  {
   "cell_type": "code",
   "execution_count": 37,
   "metadata": {
    "collapsed": true
   },
   "outputs": [],
   "source": [
    "dc = datacube.api.API()"
   ]
  },
  {
   "cell_type": "markdown",
   "metadata": {},
   "source": [
    "## Summary functions\n",
    "* __`list_fields()`__ - lists all fields that can be used for searching\n",
    "* __`list_field_values(field)`__ - lists all the values of the field found in the database\n",
    "\n",
    "Find out what fields we can search:"
   ]
  },
  {
   "cell_type": "code",
   "execution_count": 29,
   "metadata": {
    "collapsed": false
   },
   "outputs": [
    {
     "data": {
      "text/plain": [
       "[u'product',\n",
       " u'lat',\n",
       " u'sat_path',\n",
       " u'platform',\n",
       " u'lon',\n",
       " u'orbit',\n",
       " 'collection',\n",
       " u'instrument',\n",
       " u'sat_row',\n",
       " u'time',\n",
       " u'gsi',\n",
       " 'id']"
      ]
     },
     "execution_count": 29,
     "metadata": {},
     "output_type": "execute_result"
    }
   ],
   "source": [
    "dc.list_fields()"
   ]
  },
  {
   "cell_type": "markdown",
   "metadata": {},
   "source": [
    "The `product` and `platform` fields looks interesting. Find out more about them:"
   ]
  },
  {
   "cell_type": "code",
   "execution_count": 30,
   "metadata": {
    "collapsed": false
   },
   "outputs": [
    {
     "data": {
      "text/plain": [
       "[u'LEDAPS']"
      ]
     },
     "execution_count": 30,
     "metadata": {},
     "output_type": "execute_result"
    }
   ],
   "source": [
    "dc.list_field_values('product')"
   ]
  },
  {
   "cell_type": "code",
   "execution_count": 31,
   "metadata": {
    "collapsed": false
   },
   "outputs": [
    {
     "data": {
      "text/plain": [
       "[u'LANDSAT_5']"
      ]
     },
     "execution_count": 31,
     "metadata": {},
     "output_type": "execute_result"
    }
   ],
   "source": [
    "dc.list_field_values('platform')"
   ]
  },
  {
   "cell_type": "markdown",
   "metadata": {},
   "source": [
    "## Query and Access functions\n",
    "There are several API calls the describe and provide data in different ways:\n",
    "\n",
    "* __`get_descriptor()`__ - provides a descripton of the data for a given query\n",
    "* __`get_data()`__ - provides the data as `xarray.DataArray`s for each variable.  This is usually called based on information returned by the `get_descriptor` call.\n",
    "* __`get_data_array()`__ - returns an `xarray.DataArray` n-dimensional object, with the variables stack along the dimension labelled `variables`.\n",
    "* __`get_dataset()`__ - return an `xarray.Dataset` object, containing an `xarray.DataArray` for each variable."
   ]
  },
  {
   "cell_type": "markdown",
   "metadata": {},
   "source": [
    "###  get_descriptor\n",
    "We can make a query and find out about the data:\n",
    "\n",
    "The query is a nested dict of variables of terms."
   ]
  },
  {
   "cell_type": "code",
   "execution_count": 38,
   "metadata": {
    "collapsed": false
   },
   "outputs": [
    {
     "name": "stdout",
     "output_type": "stream",
     "text": [
      "{u'ls5_ledaps_albers': {'dimensions': [u'time', u'y', u'x'],\n",
      "                        'irregular_indices': {u'time': array(['2011-10-17T11:15:48.000000000+1100'], dtype='datetime64[ns]')},\n",
      "                        'result_max': (numpy.datetime64('2011-10-17T11:15:48.000000000+1100'),\n",
      "                                       -3800012.5,\n",
      "                                       899987.5),\n",
      "                        'result_min': (numpy.datetime64('2011-10-17T11:15:48.000000000+1100'),\n",
      "                                       -4099987.5,\n",
      "                                       600012.5),\n",
      "                        'result_shape': (1, 12000, 12000),\n",
      "                        'variables': {u'band1': {'datatype_name': dtype('int16'),\n",
      "                                                 'nodata_value': -9999},\n",
      "                                      u'band2': {'datatype_name': dtype('int16'),\n",
      "                                                 'nodata_value': -9999},\n",
      "                                      u'band3': {'datatype_name': dtype('int16'),\n",
      "                                                 'nodata_value': -9999},\n",
      "                                      u'band4': {'datatype_name': dtype('int16'),\n",
      "                                                 'nodata_value': -9999},\n",
      "                                      u'band5': {'datatype_name': dtype('int16'),\n",
      "                                                 'nodata_value': -9999},\n",
      "                                      u'band7': {'datatype_name': dtype('int16'),\n",
      "                                                 'nodata_value': -9999},\n",
      "                                      u'cfmask': {'datatype_name': dtype('int16'),\n",
      "                                                  'nodata_value': 255},\n",
      "                                      u'cfmask_conf': {'datatype_name': dtype('int16'),\n",
      "                                                       'nodata_value': 255},\n",
      "                                      u'sr_adjacent_cloud_qa': {'datatype_name': dtype('int16'),\n",
      "                                                                'nodata_value': 255},\n",
      "                                      u'sr_atmos_opacity': {'datatype_name': dtype('int16'),\n",
      "                                                            'nodata_value': -9999},\n",
      "                                      u'sr_cloud_qa': {'datatype_name': dtype('int16'),\n",
      "                                                       'nodata_value': 255},\n",
      "                                      u'sr_cloud_shadow_qa': {'datatype_name': dtype('int16'),\n",
      "                                                              'nodata_value': 255},\n",
      "                                      u'sr_ddv_qa': {'datatype_name': dtype('int16'),\n",
      "                                                     'nodata_value': 255},\n",
      "                                      u'sr_fill_qa': {'datatype_name': dtype('int16'),\n",
      "                                                      'nodata_value': 255},\n",
      "                                      u'sr_land_water_qa': {'datatype_name': dtype('int16'),\n",
      "                                                            'nodata_value': 255},\n",
      "                                      u'sr_snow_qa': {'datatype_name': dtype('int16'),\n",
      "                                                      'nodata_value': 255}}}}\n"
     ]
    }
   ],
   "source": [
    "query = {\n",
    "    'product': 'LEDAPS',\n",
    "    'platform': 'LANDSAT_5',\n",
    "}\n",
    "descriptor = dc.get_descriptor(query, include_storage_units=False)\n",
    "pprint(descriptor)"
   ]
  },
  {
   "cell_type": "markdown",
   "metadata": {},
   "source": [
    "The query can be restricted to provide information on particular range along a dimension.\n",
    "\n",
    "For spatial queries, the dimension names should be used.  The default projection for the range query values is in WGS84, although"
   ]
  },
  {
   "cell_type": "code",
   "execution_count": 42,
   "metadata": {
    "collapsed": false
   },
   "outputs": [
    {
     "name": "stdout",
     "output_type": "stream",
     "text": [
      "{u'ls5_ledaps_albers': {'dimensions': [u'time', u'y', u'x'],\n",
      "                        'irregular_indices': {u'time': array(['2011-10-17T11:15:48.000000000+1100'], dtype='datetime64[ns]')},\n",
      "                        'result_max': (numpy.datetime64('2011-10-17T11:15:48.000000000+1100'),\n",
      "                                       -3800012.5,\n",
      "                                       899987.5),\n",
      "                        'result_min': (numpy.datetime64('2011-10-17T11:15:48.000000000+1100'),\n",
      "                                       -4099987.5,\n",
      "                                       600012.5),\n",
      "                        'result_shape': (1, 12000, 12000),\n",
      "                        'variables': {u'band1': {'datatype_name': dtype('int16'),\n",
      "                                                 'nodata_value': -9999},\n",
      "                                      u'band2': {'datatype_name': dtype('int16'),\n",
      "                                                 'nodata_value': -9999},\n",
      "                                      u'band3': {'datatype_name': dtype('int16'),\n",
      "                                                 'nodata_value': -9999},\n",
      "                                      u'band4': {'datatype_name': dtype('int16'),\n",
      "                                                 'nodata_value': -9999},\n",
      "                                      u'band5': {'datatype_name': dtype('int16'),\n",
      "                                                 'nodata_value': -9999},\n",
      "                                      u'band7': {'datatype_name': dtype('int16'),\n",
      "                                                 'nodata_value': -9999},\n",
      "                                      u'cfmask': {'datatype_name': dtype('int16'),\n",
      "                                                  'nodata_value': 255},\n",
      "                                      u'cfmask_conf': {'datatype_name': dtype('int16'),\n",
      "                                                       'nodata_value': 255},\n",
      "                                      u'sr_adjacent_cloud_qa': {'datatype_name': dtype('int16'),\n",
      "                                                                'nodata_value': 255},\n",
      "                                      u'sr_atmos_opacity': {'datatype_name': dtype('int16'),\n",
      "                                                            'nodata_value': -9999},\n",
      "                                      u'sr_cloud_qa': {'datatype_name': dtype('int16'),\n",
      "                                                       'nodata_value': 255},\n",
      "                                      u'sr_cloud_shadow_qa': {'datatype_name': dtype('int16'),\n",
      "                                                              'nodata_value': 255},\n",
      "                                      u'sr_ddv_qa': {'datatype_name': dtype('int16'),\n",
      "                                                     'nodata_value': 255},\n",
      "                                      u'sr_fill_qa': {'datatype_name': dtype('int16'),\n",
      "                                                      'nodata_value': 255},\n",
      "                                      u'sr_land_water_qa': {'datatype_name': dtype('int16'),\n",
      "                                                            'nodata_value': 255},\n",
      "                                      u'sr_snow_qa': {'datatype_name': dtype('int16'),\n",
      "                                                      'nodata_value': 255}}}}\n"
     ]
    }
   ],
   "source": [
    "query = {\n",
    "    'product': 'LEDAPS',\n",
    "    'platform': 'LANDSAT_5',\n",
    "    'dimensions': {\n",
    "        'x' : {\n",
    "            'range': (600012.5, 899987.5),\n",
    "            'crs': 'EPSG:3577',\n",
    "        },\n",
    "        'y' : {\n",
    "            'range': (-4099987.5, -3800012.5),\n",
    "            'crs': 'EPSG:3577',\n",
    "        },\n",
    "        'time': {\n",
    "            'range': ((2011, 10, 17), (2011, 10, 18)),\n",
    "        }\n",
    "    }\n",
    "}\n",
    "pprint(dc.get_descriptor(query, include_storage_units=False))"
   ]
  },
  {
   "cell_type": "markdown",
   "metadata": {},
   "source": [
    "A coordinate reference sytsem can be provided for the spatial dimensions, either as a EPSG code or a WKT description:"
   ]
  },
  {
   "cell_type": "code",
   "execution_count": null,
   "metadata": {
    "collapsed": true
   },
   "outputs": [],
   "source": [
    "query = {\n",
    "    'product': 'LEDAPS',\n",
    "    'platform': 'LANDSAT_5',\n",
    "    'dimensions': {\n",
    "        'x' : {\n",
    "            'range': (600012.5, 899987.5),\n",
    "            'crs': 'EPSG:3577',\n",
    "        },\n",
    "        'y' : {\n",
    "            'range': (-4099987.5, -3800012.5),\n",
    "            'crs': 'EPSG:3577',\n",
    "        },\n",
    "        'time': {\n",
    "            'range': ((2011, 10, 17), (2011, 10, 18)),\n",
    "        }\n",
    "    }\n",
    "}"
   ]
  },
  {
   "cell_type": "markdown",
   "metadata": {},
   "source": [
    "### get_data\n",
    "This retrieves the data, usually as a subset, based on the information provided by the `get_descriptor` call.\n",
    "\n",
    "The query is in a similar form to the `get_descriptor` call, with the addition of a `variables` parameter.  If not specified, all variables are returned.\n",
    "The query also accepts an `array_range` parameter on a dimension that provides a subset based on array indicies, rather than labelled coordinates."
   ]
  },
  {
   "cell_type": "code",
   "execution_count": 22,
   "metadata": {
    "collapsed": false
   },
   "outputs": [
    {
     "data": {
      "text/plain": [
       "['dimensions',\n",
       " 'arrays',\n",
       " 'element_sizes',\n",
       " 'indices',\n",
       " 'coordinate_reference_systems',\n",
       " 'size']"
      ]
     },
     "execution_count": 22,
     "metadata": {},
     "output_type": "execute_result"
    }
   ],
   "source": [
    "query = {\n",
    "    'product': 'LEDAPS',\n",
    "    'platform': 'LANDSAT_5',\n",
    "    'variables': ['band1', 'band2'],\n",
    "    'dimensions': {\n",
    "        'x' : {\n",
    "            'range': (600012.5, 899987.5),\n",
    "            'crs': 'EPSG:3577',\n",
    "            'array_range': (0, 1),\n",
    "        },\n",
    "        'y' : {\n",
    "            'range': (-4099987.5, -3800012.5),\n",
    "            'crs': 'EPSG:3577',\n",
    "            'array_range': (0, 1),\n",
    "        },\n",
    "        'time': {\n",
    "            'range': ((2011, 10, 17), (2011, 10, 18)),\n",
    "        }\n",
    "    }\n",
    "}\n",
    "data = dc.get_data(query)\n",
    "data.keys()"
   ]
  },
  {
   "cell_type": "markdown",
   "metadata": {},
   "source": [
    "### get_data_array\n",
    "This is a convinence function that wraps the `get_data` function, returning only the data, stacked in a single `xarray.DataArray`.\n",
    "\n",
    "The variables are stacked along the `variable` dimension."
   ]
  },
  {
   "cell_type": "code",
   "execution_count": 24,
   "metadata": {
    "collapsed": false
   },
   "outputs": [
    {
     "data": {
      "text/plain": [
       "<xarray.DataArray u'ls5_ledaps_albers' (variable: 16, time: 1, y: 12000, x: 12000)>\n",
       "dask.array<concate..., shape=(16, 1, 12000, 12000), dtype=float64, chunksize=(1, 1, 4000, 4000)>\n",
       "Coordinates:\n",
       "  * time      (time) datetime64[ns] 2011-10-17T00:15:48\n",
       "  * y         (y) float64 -3.8e+06 -3.8e+06 -3.8e+06 -3.8e+06 -3.8e+06 ...\n",
       "  * x         (x) float64 6e+05 6e+05 6.001e+05 6.001e+05 6.001e+05 ...\n",
       "  * variable  (variable) <U20 u'band1' u'band2' u'band3' u'band4' u'band5' ..."
      ]
     },
     "execution_count": 24,
     "metadata": {},
     "output_type": "execute_result"
    }
   ],
   "source": [
    "nbar = dc.get_data_array(product='LEDAPS', platform='LANDSAT_5')\n",
    "nbar"
   ]
  },
  {
   "cell_type": "markdown",
   "metadata": {},
   "source": [
    "### get_dataset\n",
    "This is a convinience fuction similar to `get_data_array`, returning the data of the query as a `xarray.Dataset` object."
   ]
  },
  {
   "cell_type": "code",
   "execution_count": 35,
   "metadata": {
    "collapsed": false
   },
   "outputs": [
    {
     "data": {
      "text/plain": [
       "<xarray.Dataset>\n",
       "Dimensions:               (time: 1, x: 12000, y: 12000)\n",
       "Coordinates:\n",
       "  * time                  (time) datetime64[ns] 2011-10-17T00:15:48\n",
       "  * y                     (y) float64 -3.8e+06 -3.8e+06 -3.8e+06 -3.8e+06 ...\n",
       "  * x                     (x) float64 6e+05 6e+05 6.001e+05 6.001e+05 ...\n",
       "Data variables:\n",
       "    sr_cloud_shadow_qa    (time, y, x) int16 255 255 255 255 255 255 255 255 ...\n",
       "    sr_snow_qa            (time, y, x) int16 255 255 255 255 255 255 255 255 ...\n",
       "    band2                 (time, y, x) int16 -9999 -9999 -9999 -9999 -9999 ...\n",
       "    band3                 (time, y, x) int16 -9999 -9999 -9999 -9999 -9999 ...\n",
       "    band1                 (time, y, x) int16 -9999 -9999 -9999 -9999 -9999 ...\n",
       "    band7                 (time, y, x) int16 -9999 -9999 -9999 -9999 -9999 ...\n",
       "    band4                 (time, y, x) int16 -9999 -9999 -9999 -9999 -9999 ...\n",
       "    band5                 (time, y, x) int16 -9999 -9999 -9999 -9999 -9999 ...\n",
       "    sr_fill_qa            (time, y, x) int16 255 255 255 255 255 255 255 255 ...\n",
       "    sr_ddv_qa             (time, y, x) int16 255 255 255 255 255 255 255 255 ...\n",
       "    sr_atmos_opacity      (time, y, x) int16 -9999 -9999 -9999 -9999 -9999 ...\n",
       "    sr_adjacent_cloud_qa  (time, y, x) int16 255 255 255 255 255 255 255 255 ...\n",
       "    sr_cloud_qa           (time, y, x) int16 255 255 255 255 255 255 255 255 ...\n",
       "    cfmask_conf           (time, y, x) int16 255 255 255 255 255 255 255 255 ...\n",
       "    cfmask                (time, y, x) int16 255 255 255 255 255 255 255 255 ...\n",
       "    sr_land_water_qa      (time, y, x) int16 255 255 255 255 255 255 255 255 ..."
      ]
     },
     "execution_count": 35,
     "metadata": {},
     "output_type": "execute_result"
    }
   ],
   "source": [
    "dc.get_dataset(product='LEDAPS', platform='LANDSAT_5', set_nan=False)"
   ]
  },
  {
   "cell_type": "code",
   "execution_count": null,
   "metadata": {
    "collapsed": true
   },
   "outputs": [],
   "source": []
  }
 ],
 "metadata": {
  "kernelspec": {
   "display_name": "Python 2",
   "language": "python",
   "name": "python2"
  },
  "language_info": {
   "codemirror_mode": {
    "name": "ipython",
    "version": 2
   },
   "file_extension": ".py",
   "mimetype": "text/x-python",
   "name": "python",
   "nbconvert_exporter": "python",
   "pygments_lexer": "ipython2",
   "version": "2.7.10"
  }
 },
 "nbformat": 4,
 "nbformat_minor": 0
}
