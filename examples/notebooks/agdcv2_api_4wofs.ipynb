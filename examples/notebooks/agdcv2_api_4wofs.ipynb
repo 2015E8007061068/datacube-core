{
 "cells": [
  {
   "cell_type": "markdown",
   "metadata": {
    "collapsed": false
   },
   "source": [
    "# AGDC-V2 API Functional Testing\n"
   ]
  },
  {
   "cell_type": "markdown",
   "metadata": {},
   "source": [
    "##  Setting up environment: python modules etc\n",
    "\n",
    "* Optional! \n",
    "* Skip this section if you use other means to ensure correct env setup, \n",
    "* such as module load before starting jupyter notebook."
   ]
  },
  {
   "cell_type": "code",
   "execution_count": 1,
   "metadata": {
    "collapsed": true
   },
   "outputs": [],
   "source": [
    "import os, sys\n",
    "\n",
    "# where is your lastest developer branch code?\n",
    "my_agdcv2_src='/g/data1/u46/fxz547/Githubz/agdc-v2' \n",
    "\n",
    "sys.path.insert(0, my_agdcv2_src)  #prepend a path, to use the lastest developer branch"
   ]
  },
  {
   "cell_type": "code",
   "execution_count": 2,
   "metadata": {
    "collapsed": false
   },
   "outputs": [
    {
     "data": {
      "text/plain": [
       "(None, '/g/data1/u46/fxz547/Githubz/agdc-v2/datacube/api', ('', '', 5))"
      ]
     },
     "execution_count": 2,
     "metadata": {},
     "output_type": "execute_result"
    }
   ],
   "source": [
    "import imp; imp.find_module('datacube/api')  # check which python module file is being used"
   ]
  },
  {
   "cell_type": "code",
   "execution_count": 3,
   "metadata": {
    "collapsed": false
   },
   "outputs": [],
   "source": [
    "from IPython.display import display\n",
    "from pprint import pprint\n",
    "from __future__ import print_function\n",
    "\n",
    "from collections import defaultdict\n",
    "import xarray as xr\n",
    "import xarray.ufuncs\n",
    "\n",
    "from datacube.api import API\n",
    "from datacube.index import index_connect\n",
    "from datacube.config import LocalConfig\n",
    "from datacube.api._conversion import to_datetime\n",
    "#new updated version: from datacube.api import make_mask, describe_flags\n",
    "\n",
    "import numpy as np\n",
    "import math\n",
    "\n",
    "from pyproj import Proj, transform\n",
    "from osgeo import gdal, osr, ogr\n",
    "from rasterio.warp import reproject, RESAMPLING\n",
    "import rasterio\n",
    "\n",
    "%matplotlib inline\n",
    "import matplotlib.pyplot as plt\n",
    "from pylab import rcParams\n",
    "rcParams['figure.figsize'] = 10, 10 # increase plot size a bit...\n",
    "rcParams['axes.formatter.useoffset'] = False  # disable scalar formatter / offset in axes labels\n"
   ]
  },
  {
   "cell_type": "markdown",
   "metadata": {
    "collapsed": true
   },
   "source": [
    "Python envionment and modules are ready to go"
   ]
  },
  {
   "cell_type": "markdown",
   "metadata": {
    "collapsed": true
   },
   "source": [
    "## API with your specific configuration"
   ]
  },
  {
   "cell_type": "code",
   "execution_count": 4,
   "metadata": {
    "collapsed": true
   },
   "outputs": [],
   "source": [
    "force_prod = True\n",
    "if force_prod:\n",
    "    prod_config = LocalConfig.find(['/g/data/v10/public/modules/agdc-py2-prod/1.0.2/datacube.conf'])\n",
    "    prod_index = index_connect(prod_config, application_name='api-WOfS-dev')\n",
    "    dc = API(prod_index)\n",
    "else:\n",
    "    dc = API(application_name='api-WOfS-dev')"
   ]
  },
  {
   "cell_type": "markdown",
   "metadata": {
    "collapsed": true
   },
   "source": [
    "## List_cells ()"
   ]
  },
  {
   "cell_type": "code",
   "execution_count": 5,
   "metadata": {
    "collapsed": false
   },
   "outputs": [
    {
     "data": {
      "text/plain": [
       "[(15, -40)]"
      ]
     },
     "execution_count": 5,
     "metadata": {},
     "output_type": "execute_result"
    }
   ],
   "source": [
    "dc.list_cells(product='nbar', longitude=(149.06,149.18), latitude=(-35.27, -35.33) , time=('1996-01-01', '2016-03-20'))\n",
    "#result =[(15, -40)]"
   ]
  },
  {
   "cell_type": "code",
   "execution_count": 6,
   "metadata": {
    "collapsed": false
   },
   "outputs": [
    {
     "name": "stdout",
     "output_type": "stream",
     "text": [
      "[(15, -40)]\n",
      "But this return wrong results [] quietly\n",
      "[]\n"
     ]
    }
   ],
   "source": [
    "qdict={\"product\":\"nbar\", \"platform\": 'LANDSAT_5',\"longitude\": (149.06,149.18), \"latitude\":(-35.27, -35.33), \"time\":('1996-01-01', '2016-03-20')}\n",
    "\n",
    "result=dc.list_cells(**qdict) #should use ** to unpack the dic into a kwarg\n",
    "\n",
    "print (result)\n",
    "\n",
    "print(\"But this return wrong results [] quietly\")\n",
    "result2 = dc.list_cells(qdict)\n",
    "\n",
    "print (result2)"
   ]
  },
  {
   "cell_type": "code",
   "execution_count": 7,
   "metadata": {
    "collapsed": false
   },
   "outputs": [
    {
     "name": "stdout",
     "output_type": "stream",
     "text": [
      "[(15, -40)]\n"
     ]
    }
   ],
   "source": [
    "# And this dict (for analytical engine style) also works\n",
    "an_query = {\n",
    "    'product': 'nbar',\n",
    "    'platform': 'LANDSAT_5',\n",
    "    'dimensions': {\n",
    "        'x' : { 'range': (149.06, 149.18) },\n",
    "        'y' : { 'range': (-35.27, -35.33) },\n",
    "    'time': { 'range': ((1996, 1, 1), (2006, 7 ,1)) }\n",
    "    }\n",
    "}\n",
    "result3=dc.list_cells(**an_query) # []\n",
    "print (result3)"
   ]
  },
  {
   "cell_type": "code",
   "execution_count": null,
   "metadata": {
    "collapsed": true
   },
   "outputs": [],
   "source": []
  },
  {
   "cell_type": "markdown",
   "metadata": {},
   "source": [
    "## List Tiles"
   ]
  },
  {
   "cell_type": "code",
   "execution_count": 11,
   "metadata": {
    "collapsed": false
   },
   "outputs": [
    {
     "name": "stdout",
     "output_type": "stream",
     "text": [
      "88\n",
      "Alternatively\n",
      "88\n"
     ]
    }
   ],
   "source": [
    "#define a cell covering Canberra\n",
    "cells= [(15, -40)]\n",
    "\n",
    "qdict={\"product\":\"nbar\", \"platform\": 'LANDSAT_5',\"longitude\": (149.06,149.18), \"latitude\":(-35.27, -35.33), \"time\":('1996-01-01', '2016-03-20')}\n",
    "\n",
    "tiles = dc.list_tiles(cells, **qdict)\n",
    "\n",
    "print(len(tiles))\n",
    "\n",
    "print(\"Alternatively\")\n",
    "tiles = dc.list_tiles(cells,  product='nbar', platform='LANDSAT_5')#, time=('2000', '2005'))\n",
    "\n",
    "print (len(tiles))\n"
   ]
  },
  {
   "cell_type": "code",
   "execution_count": 12,
   "metadata": {
    "collapsed": false
   },
   "outputs": [
    {
     "name": "stdout",
     "output_type": "stream",
     "text": [
      "659\n"
     ]
    }
   ],
   "source": [
    "# But this call also returns results - appears incorrect \n",
    "tiles = dc.list_tiles(cells, qdict)\n",
    "\n",
    "print(len(tiles))"
   ]
  },
  {
   "cell_type": "code",
   "execution_count": 10,
   "metadata": {
    "collapsed": false
   },
   "outputs": [
    {
     "name": "stdout",
     "output_type": "stream",
     "text": [
      "<type 'list'>\n",
      "68\n"
     ]
    },
    {
     "data": {
      "text/plain": [
       "68"
      ]
     },
     "execution_count": 10,
     "metadata": {},
     "output_type": "execute_result"
    }
   ],
   "source": [
    "nbar_tiles = dc.list_tiles(cells, product='nbar', platform='LANDSAT_8')\n",
    "\n",
    "\n",
    "print (type(nbar_tiles))\n",
    "\n",
    "print (len(nbar_tiles))\n",
    "#print  nbar_tiles\n",
    "\n",
    "pq_tiles = dc.list_tiles(cells, product='pqa', platform='LANDSAT_8') #, time=('2000', '2007'))\n",
    "len(pq_tiles)\n",
    "#print pq_tiles  # a huge list"
   ]
  },
  {
   "cell_type": "code",
   "execution_count": null,
   "metadata": {
    "collapsed": true
   },
   "outputs": [],
   "source": []
  },
  {
   "cell_type": "markdown",
   "metadata": {},
   "source": [
    "## list field values are slow"
   ]
  },
  {
   "cell_type": "code",
   "execution_count": null,
   "metadata": {
    "collapsed": false
   },
   "outputs": [],
   "source": [
    "dc.list_field_values('product')"
   ]
  },
  {
   "cell_type": "code",
   "execution_count": null,
   "metadata": {
    "collapsed": true
   },
   "outputs": [],
   "source": [
    "dc.list_field_values('platform')"
   ]
  },
  {
   "cell_type": "code",
   "execution_count": null,
   "metadata": {
    "collapsed": false
   },
   "outputs": [],
   "source": [
    "# return a huge incomprehensible list. bug?\n",
    "dc.list_all_field_values()  \n",
    "# {'collection': [u'eo'],\n",
    "#  u'gsi': [u'EDC', u'ASA', u'LGN', None],\n",
    "#  'id': ['7fc31b32-e3f9-11e5-83a5-a0000100fe80',\n",
    "#   'c092c80a-ec5b-11e5-80c7-a0000100fe80',\n",
    "#   '776201cc-02b4-11e6-b767-a0000100fe80',\n",
    "#   '9de6172e-e1d1-11e5-8b70-a0000100fe80',\n",
    "#   '669fc2e4-e684-11e5-af28-a0000100fe80',"
   ]
  },
  {
   "cell_type": "code",
   "execution_count": null,
   "metadata": {
    "collapsed": false
   },
   "outputs": [],
   "source": [
    "\n"
   ]
  }
 ],
 "metadata": {
  "kernelspec": {
   "display_name": "Python 2",
   "language": "python",
   "name": "python2"
  },
  "language_info": {
   "codemirror_mode": {
    "name": "ipython",
    "version": 2
   },
   "file_extension": ".py",
   "mimetype": "text/x-python",
   "name": "python",
   "nbconvert_exporter": "python",
   "pygments_lexer": "ipython2",
   "version": "2.7.11"
  }
 },
 "nbformat": 4,
 "nbformat_minor": 0
}
