{
 "cells": [
  {
   "cell_type": "code",
   "execution_count": 1,
   "metadata": {
    "ExecuteTime": {
     "end_time": "2016-04-20T10:27:18.205029",
     "start_time": "2016-04-20T10:27:17.116029"
    },
    "collapsed": false
   },
   "outputs": [],
   "source": [
    "from datacube.api import API, describe_flags, make_mask, list_flag_names\n",
    "\n",
    "import xarray as xr\n",
    "\n",
    "dc = API()\n",
    "\n",
    "CELL = (19, -29)"
   ]
  },
  {
   "cell_type": "markdown",
   "metadata": {},
   "source": [
    "# Pixel level data filtering\n",
    "This notebook steps through how to filter data using the low level Datacube bit-masking API functions."
   ]
  },
  {
   "cell_type": "markdown",
   "metadata": {},
   "source": [
    "## Load PQ Dataset (by cell)\n",
    "\n",
    "Load the pixel quality data, for all available times, in a particular cell, into an `xarray.Dataset`."
   ]
  },
  {
   "cell_type": "code",
   "execution_count": 2,
   "metadata": {
    "ExecuteTime": {
     "end_time": "2016-04-20T10:27:18.337029",
     "start_time": "2016-04-20T10:27:18.206029"
    },
    "collapsed": false
   },
   "outputs": [
    {
     "data": {
      "text/plain": [
       "<xarray.Dataset>\n",
       "Dimensions:       (time: 10, x: 4000, y: 4000)\n",
       "Coordinates:\n",
       "  * time          (time) datetime64[ns] 2013-03-27T23:45:53.380000 ...\n",
       "  * y             (y) float64 -2.8e+06 -2.8e+06 -2.8e+06 -2.8e+06 -2.8e+06 ...\n",
       "  * x             (x) float64 1.9e+06 1.9e+06 1.9e+06 1.9e+06 1.9e+06 ...\n",
       "Data variables:\n",
       "    crs           int32 0\n",
       "    pixelquality  (time, y, x) int16 0 0 0 0 0 0 0 0 0 0 0 0 0 0 0 0 0 0 0 0 ...\n",
       "Attributes:\n",
       "    product_version: 0.0.0\n",
       "    summary: These files are experimental, short lived, and the format will change.\n",
       "    title: Experimental Data files From the Australian Geoscience Data Cube - DO NOT USE\n",
       "    license: Creative Commons Attribution 4.0 International (CC-BY 4.0)\n",
       "    source: This data is a reprojection and retile of Landsat surface reflectance scene data."
      ]
     },
     "execution_count": 2,
     "metadata": {},
     "output_type": "execute_result"
    }
   ],
   "source": [
    "pqa = dc.get_dataset_by_cell(CELL, product='pqa', platform='LANDSAT_8')\n",
    "pqa"
   ]
  },
  {
   "cell_type": "markdown",
   "metadata": {},
   "source": [
    "## Describe the options available with the PQ\n",
    "\n",
    "Print out a listing of the available bit-mask flags in this bit-masked dataset."
   ]
  },
  {
   "cell_type": "code",
   "execution_count": 3,
   "metadata": {
    "ExecuteTime": {
     "end_time": "2016-04-20T10:27:18.341029",
     "start_time": "2016-04-20T10:27:18.338029"
    },
    "collapsed": false
   },
   "outputs": [
    {
     "name": "stdout",
     "output_type": "stream",
     "text": [
      "Bits are listed from the MSB (bit 13) to the LSB (bit 0)\n",
      "Bit     Value   Flag Name            Description\n",
      "13      0       cloud_shadow_fmask   Cloud Shadow (Fmask)\n",
      "12      0       cloud_shadow_acca    Cloud Shadow (ACCA)\n",
      "11      0       cloud_fmask          Cloud (Fmask)\n",
      "10      0       cloud_acca           Cloud (ACCA)\n",
      "9       1       land_obs             Land observation\n",
      "9       0       sea_obs              Sea observation\n",
      "8       1       contiguity           All bands for this pixel contain non-null values\n",
      "7       0       band_7_saturated     Band 7 is saturated\n",
      "6       0       band_6_2_saturated   Band 6-2 is saturated\n",
      "5       0       band_6_1_saturated   Band 6-1 is saturated\n",
      "4       0       band_5_saturated     Band 5 is saturated\n",
      "3       0       band_4_saturated     Band 4 is saturated\n",
      "2       0       band_3_saturated     Band 3 is saturated\n",
      "1       0       band_2_saturated     Band 2 is saturated\n",
      "0       0       band_1_saturated     Band 1 is saturated\n"
     ]
    }
   ],
   "source": [
    "print(describe_flags(pqa))"
   ]
  },
  {
   "cell_type": "code",
   "execution_count": 4,
   "metadata": {
    "ExecuteTime": {
     "end_time": "2016-04-20T10:27:18.348029",
     "start_time": "2016-04-20T10:27:18.342029"
    },
    "collapsed": false
   },
   "outputs": [
    {
     "data": {
      "text/plain": [
       "['band_1_saturated',\n",
       " 'band_2_saturated',\n",
       " 'band_3_saturated',\n",
       " 'band_4_saturated',\n",
       " 'band_5_saturated',\n",
       " 'band_6_1_saturated',\n",
       " 'band_6_2_saturated',\n",
       " 'band_7_saturated',\n",
       " 'cloud_acca',\n",
       " 'cloud_fmask',\n",
       " 'cloud_shadow_acca',\n",
       " 'cloud_shadow_fmask',\n",
       " 'contiguity',\n",
       " 'land_obs',\n",
       " 'sea_obs']"
      ]
     },
     "execution_count": 4,
     "metadata": {},
     "output_type": "execute_result"
    }
   ],
   "source": [
    "list_flag_names(pqa)"
   ]
  },
  {
   "cell_type": "markdown",
   "metadata": {},
   "source": [
    "## Define good pixel dict\n",
    "\n",
    "After looking at the available flags for this type of dataset, we need to define which of them we care about when masking our pixel. We define this with a dictionary of flag name to boolean value."
   ]
  },
  {
   "cell_type": "code",
   "execution_count": 5,
   "metadata": {
    "ExecuteTime": {
     "end_time": "2016-04-20T10:27:18.366029",
     "start_time": "2016-04-20T10:27:18.352029"
    },
    "collapsed": false
   },
   "outputs": [],
   "source": [
    "GA_GOOD_PIXEL = {name: False for name in ('band_5_saturated',\n",
    " 'band_6_1_saturated',\n",
    " 'cloud_shadow_acca',\n",
    " 'cloud_fmask',\n",
    " 'band_3_saturated',\n",
    " 'band_1_saturated',\n",
    " 'band_4_saturated',\n",
    " 'band_2_saturated',\n",
    " 'cloud_acca',\n",
    " 'band_6_2_saturated',\n",
    " 'cloud_shadow_fmask',\n",
    " 'band_7_saturated')}\n",
    "GA_GOOD_PIXEL.update(dict(contiguity=True, land_obs=True))"
   ]
  },
  {
   "cell_type": "markdown",
   "metadata": {},
   "source": [
    "## Make a mask to get only good pixels\n",
    "\n",
    "Now we have our Dataset of pixel quality data, layered by time and we have a dictionary describing which bits we care about in that Dataset. We need to combine the two to create a mask. This is done using the `make_mask` function available in the Datacube API."
   ]
  },
  {
   "cell_type": "code",
   "execution_count": 6,
   "metadata": {
    "ExecuteTime": {
     "end_time": "2016-04-20T10:27:18.387029",
     "start_time": "2016-04-20T10:27:18.368029"
    },
    "collapsed": false
   },
   "outputs": [
    {
     "data": {
      "text/plain": [
       "<xarray.DataArray 'pixelquality' (time: 10, y: 4000, x: 4000)>\n",
       "dask.array<elemwis..., shape=(10, 4000, 4000), dtype=bool, chunksize=(1, 4000, 4000)>\n",
       "Coordinates:\n",
       "  * time     (time) datetime64[ns] 2013-03-27T23:45:53.380000 ...\n",
       "  * y        (y) float64 -2.8e+06 -2.8e+06 -2.8e+06 -2.8e+06 -2.8e+06 ...\n",
       "  * x        (x) float64 1.9e+06 1.9e+06 1.9e+06 1.9e+06 1.9e+06 1.9e+06 ..."
      ]
     },
     "execution_count": 6,
     "metadata": {},
     "output_type": "execute_result"
    }
   ],
   "source": [
    "good_pixel_mask = make_mask(pqa, **GA_GOOD_PIXEL)\n",
    "good_pixel_mask"
   ]
  },
  {
   "cell_type": "markdown",
   "metadata": {},
   "source": [
    "## Load NBAR Dataset (by Cell)\n",
    "\n",
    "Now we retrieve the NBAR data from Landsat 8 for bands 1, 2 and 3 for the same cell from which we retrieved the pixel quality data."
   ]
  },
  {
   "cell_type": "code",
   "execution_count": 7,
   "metadata": {
    "ExecuteTime": {
     "end_time": "2016-04-20T10:27:19.147029",
     "start_time": "2016-04-20T10:27:18.390029"
    },
    "collapsed": false
   },
   "outputs": [
    {
     "data": {
      "text/plain": [
       "<xarray.Dataset>\n",
       "Dimensions:  (time: 10, x: 4000, y: 4000)\n",
       "Coordinates:\n",
       "  * time     (time) datetime64[ns] 2013-03-27T23:45:53.380000 ...\n",
       "  * y        (y) float64 -2.8e+06 -2.8e+06 -2.8e+06 -2.8e+06 -2.8e+06 ...\n",
       "  * x        (x) float64 1.9e+06 1.9e+06 1.9e+06 1.9e+06 1.9e+06 1.9e+06 ...\n",
       "Data variables:\n",
       "    band_1   (time, y, x) int16 -999 -999 -999 -999 -999 -999 -999 -999 -999 ...\n",
       "    crs      int32 0\n",
       "    band_3   (time, y, x) int16 -999 -999 -999 -999 -999 -999 -999 -999 -999 ...\n",
       "    band_2   (time, y, x) int16 -999 -999 -999 -999 -999 -999 -999 -999 -999 ...\n",
       "Attributes:\n",
       "    product_version: 0.0.0\n",
       "    summary: These files are experimental, short lived, and the format will change.\n",
       "    title: Experimental Data files From the Australian Geoscience Data Cube - DO NOT USE\n",
       "    license: Creative Commons Attribution 4.0 International (CC-BY 4.0)\n",
       "    source: This data is a reprojection and retile of Landsat surface reflectance scene data."
      ]
     },
     "execution_count": 7,
     "metadata": {},
     "output_type": "execute_result"
    }
   ],
   "source": [
    "nbar = dc.get_dataset_by_cell(CELL, variables=('band_1', 'band_2', 'band_3'), product='nbar', platform='LANDSAT_8')\n",
    "nbar"
   ]
  },
  {
   "cell_type": "markdown",
   "metadata": {},
   "source": [
    "## Apply the mask to the surface reflection data\n",
    "\n",
    "\n",
    "The loaded data can now be masked using the [`xarray.Dataset.where`](http://xarray.pydata.org/en/stable/generated/xarray.Dataset.where.html) function, which uses the co-ordinate values in both the mask and the data to ensure that they align. It will remove any data for which the mask is not available, and will throw an error if the mask and data do not overlap."
   ]
  },
  {
   "cell_type": "code",
   "execution_count": 8,
   "metadata": {
    "ExecuteTime": {
     "end_time": "2016-04-20T10:27:19.170029",
     "start_time": "2016-04-20T10:27:19.148029"
    },
    "collapsed": false
   },
   "outputs": [
    {
     "data": {
      "text/plain": [
       "<xarray.DataArray 'band_1' (time: 10, y: 4000, x: 4000)>\n",
       "dask.array<elemwis..., shape=(10, 4000, 4000), dtype=float64, chunksize=(1, 4000, 4000)>\n",
       "Coordinates:\n",
       "  * x        (x) float64 1.9e+06 1.9e+06 1.9e+06 1.9e+06 1.9e+06 1.9e+06 ...\n",
       "  * time     (time) datetime64[ns] 2013-03-27T23:45:53.380000 ...\n",
       "  * y        (y) float64 -2.8e+06 -2.8e+06 -2.8e+06 -2.8e+06 -2.8e+06 ..."
      ]
     },
     "execution_count": 8,
     "metadata": {},
     "output_type": "execute_result"
    }
   ],
   "source": [
    "nbar_good_pixels = nbar.where(good_pixel_mask)['band_1']\n",
    "nbar_good_pixels"
   ]
  },
  {
   "cell_type": "code",
   "execution_count": null,
   "metadata": {
    "collapsed": true
   },
   "outputs": [],
   "source": []
  }
 ],
 "metadata": {
  "kernelspec": {
   "display_name": "Python 3",
   "language": "python",
   "name": "python3"
  },
  "language_info": {
   "codemirror_mode": {
    "name": "ipython",
    "version": 3
   },
   "file_extension": ".py",
   "mimetype": "text/x-python",
   "name": "python",
   "nbconvert_exporter": "python",
   "pygments_lexer": "ipython3",
   "version": "3.5.1"
  }
 },
 "nbformat": 4,
 "nbformat_minor": 0
}
