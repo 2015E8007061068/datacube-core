{
 "cells": [
  {
   "cell_type": "code",
   "execution_count": 1,
   "metadata": {
    "collapsed": true
   },
   "outputs": [],
   "source": [
    "# Analytics Expression Language Example\n",
    "\n",
    "import xarray as xr\n",
    "from datetime import datetime\n",
    "from datacube.api import API\n",
    "from datacube.ndexpr import NDexpr"
   ]
  },
  {
   "cell_type": "code",
   "execution_count": 2,
   "metadata": {
    "collapsed": true
   },
   "outputs": [],
   "source": [
    "# Instantiating API and NDexpr\n",
    "\n",
    "g = API()\n",
    "nd = NDexpr()"
   ]
  },
  {
   "cell_type": "code",
   "execution_count": 3,
   "metadata": {
    "collapsed": false
   },
   "outputs": [],
   "source": [
    "# construct data request parameters for band_30 and band_40\n",
    "data_request_descriptor = {\n",
    "    'platform': 'LANDSAT_5',\n",
    "    'product': 'nbar',\n",
    "    'variables': ('band_3', 'band_4'),\n",
    "    'dimensions': {\n",
    "        'x': {\n",
    "            'range': (150, 150.256)\n",
    "        },\n",
    "        'y': {\n",
    "            'range': (-34.0, -33.744)\n",
    "        },\n",
    "        'time': {\n",
    "            'range': (datetime(1990, 1, 1), datetime(1990, 12, 31))\n",
    "        }\n",
    "    }\n",
    "}\n",
    "\n",
    "# Retrieving data from API\n",
    "d1 = g.get_data(data_request_descriptor)\n",
    "\n",
    "# construct data request parameters for PQ\n",
    "pq_request_descriptor = {\n",
    "    'platform': 'LANDSAT_5',\n",
    "    'product': 'pqa',\n",
    "    'variables': ('pixelquality'),\n",
    "    'dimensions': {\n",
    "        'x': {\n",
    "            'range': (150, 150.256)\n",
    "        },\n",
    "        'y': {\n",
    "            'range': (-34.0, -33.744)\n",
    "        },\n",
    "        'time': {\n",
    "            'range': (datetime(1990, 1, 1), datetime(1990, 12, 31))\n",
    "        }\n",
    "    }\n",
    "}\n",
    "\n",
    "# Retrieving data from API\n",
    "d2 = g.get_data(pq_request_descriptor)"
   ]
  },
  {
   "cell_type": "code",
   "execution_count": 4,
   "metadata": {
    "collapsed": true
   },
   "outputs": [],
   "source": [
    "# The following 3 lines shouldn't be done like this\n",
    "# Currently done like this for the sake of the example.\n",
    "\n",
    "b30 = xr.DataArray(d1['arrays']['band_3'])\n",
    "b40 = xr.DataArray(d1['arrays']['band_4'])\n",
    "pq = nd.get_pqa_mask(d2['arrays']['pixelquality'].values)"
   ]
  },
  {
   "cell_type": "code",
   "execution_count": 5,
   "metadata": {
    "collapsed": false
   },
   "outputs": [],
   "source": [
    "# NDexpr demo begins here\n",
    "\n",
    "# perform ndvi as expressed in this language.\n",
    "ndvi = nd.evaluate('((b40 - b30) / (b40 + b30))')\n",
    "\n",
    "# perform mask on ndvi as expressed in this language.\n",
    "masked_ndvi = nd.evaluate('ndvi{pq}')"
   ]
  },
  {
   "cell_type": "code",
   "execution_count": 6,
   "metadata": {
    "collapsed": false
   },
   "outputs": [
    {
     "name": "stdout",
     "output_type": "stream",
     "text": [
      "<xarray.DataArray (time: 12, y: 1264, x: 1094)>\n",
      "array([[[-0.        , -0.        , -0.        , ..., -0.        ,\n",
      "         -0.        , -0.        ],\n",
      "        [-0.        , -0.        , -0.        , ..., -0.        ,\n",
      "         -0.        , -0.        ],\n",
      "        [-0.        , -0.        , -0.        , ..., -0.        ,\n",
      "         -0.        , -0.        ],\n",
      "        ..., \n",
      "        [ 0.72546012,  0.75293306,  0.72474747, ...,  0.60863874,\n",
      "          0.74612292,  0.69976905],\n",
      "        [ 0.72546012,  0.7819732 ,  0.74063058, ...,  0.62055838,\n",
      "          0.74612292,  0.73892499],\n",
      "        [ 0.76122673,  0.72474747,  0.76828479, ...,  0.65077233,\n",
      "          0.75745527,  0.71428571]],\n",
      "\n",
      "       [[-0.        , -0.        , -0.        , ..., -0.        ,\n",
      "         -0.        , -0.        ],\n",
      "        [-0.        , -0.        , -0.        , ..., -0.        ,\n",
      "         -0.        , -0.        ],\n",
      "        [-0.        , -0.        , -0.        , ..., -0.        ,\n",
      "         -0.        , -0.        ],\n",
      "        ..., \n",
      "        [ 0.49791667,  0.44414169,  0.53474903, ...,  0.59968038,\n",
      "          0.62231436,  0.55843247],\n",
      "        [ 0.56654676,  0.49791667,  0.49791667, ...,  0.58714462,\n",
      "          0.57169883,  0.54653252],\n",
      "        [ 0.45475113,  0.45475113,  0.57212714, ...,  0.5599473 ,\n",
      "          0.51665243,  0.49153908]],\n",
      "\n",
      "       [[-0.        , -0.        , -0.        , ..., -0.        ,\n",
      "         -0.        , -0.        ],\n",
      "        [-0.        , -0.        , -0.        , ..., -0.        ,\n",
      "         -0.        , -0.        ],\n",
      "        [-0.        , -0.        , -0.        , ..., -0.        ,\n",
      "         -0.        , -0.        ],\n",
      "        ..., \n",
      "        [-0.0190169 , -0.01394268, -0.01426841, ...,  0.0869485 ,\n",
      "          0.104069  ,  0.10589604],\n",
      "        [-0.01817981, -0.02659894, -0.0116254 , ...,  0.08947264,\n",
      "          0.09105791,  0.11535867],\n",
      "        [-0.01735618, -0.02889186, -0.01829812, ...,  0.13348018,\n",
      "          0.11264865,  0.11803279]],\n",
      "\n",
      "       ..., \n",
      "       [[-0.        , -0.        , -0.        , ..., -0.        ,\n",
      "         -0.        , -0.        ],\n",
      "        [-0.        , -0.        , -0.        , ..., -0.        ,\n",
      "         -0.        , -0.        ],\n",
      "        [-0.        , -0.        , -0.        , ..., -0.        ,\n",
      "         -0.        , -0.        ],\n",
      "        ..., \n",
      "        [ 0.73164557,  0.7662624 ,  0.73089701, ...,  0.65491651,\n",
      "          0.66287263,  0.66287263],\n",
      "        [ 0.83690394,  0.77118187,  0.77118187, ...,  0.66304348,\n",
      "          0.66287263,  0.67838617],\n",
      "        [ 0.7760169 ,  0.7805383 ,  0.75576037, ...,  0.65491651,\n",
      "          0.67079646,  0.66304348]],\n",
      "\n",
      "       [[-0.        , -0.        , -0.        , ..., -0.        ,\n",
      "         -0.        , -0.        ],\n",
      "        [-0.        , -0.        , -0.        , ..., -0.        ,\n",
      "         -0.        , -0.        ],\n",
      "        [-0.        , -0.        , -0.        , ..., -0.        ,\n",
      "         -0.        , -0.        ],\n",
      "        ..., \n",
      "        [ 0.23502304,  0.23126057,  0.22458894, ...,  0.35142469,\n",
      "          0.35787211,  0.37303557],\n",
      "        [ 0.21704003,  0.23777148,  0.23126057, ...,  0.35997748,\n",
      "          0.3894081 ,  0.36657382],\n",
      "        [ 0.23656716,  0.23777148,  0.23938815, ...,  0.36959064,\n",
      "          0.38294219,  0.38294219]],\n",
      "\n",
      "       [[-0.        , -0.        , -0.        , ..., -0.        ,\n",
      "         -0.        , -0.        ],\n",
      "        [-0.        , -0.        , -0.        , ..., -0.        ,\n",
      "         -0.        , -0.        ],\n",
      "        [-0.        , -0.        , -0.        , ..., -0.        ,\n",
      "         -0.        , -0.        ],\n",
      "        ..., \n",
      "        [ 0.68933054,  0.7033667 ,  0.71302817, ...,  0.08006119,\n",
      "          0.10706967,  0.15141204],\n",
      "        [ 0.70075567,  0.71750433,  0.70984879, ...,  0.09952536,\n",
      "          0.10811256,  0.12760442],\n",
      "        [ 0.72196162,  0.73935937,  0.74871555, ...,  0.10730016,\n",
      "          0.10534174,  0.09907319]]])\n",
      "Coordinates:\n",
      "  * time     (time) datetime64[ns] 1990-03-02T23:11:16 1990-05-05T23:10:28 ...\n",
      "  * y        (y) float64 -3.799e+06 -3.799e+06 -3.799e+06 -3.799e+06 ...\n",
      "  * x        (x) float64 1.649e+06 1.649e+06 1.649e+06 1.649e+06 1.649e+06 ...\n"
     ]
    }
   ],
   "source": [
    "print(ndvi)"
   ]
  },
  {
   "cell_type": "code",
   "execution_count": 7,
   "metadata": {
    "collapsed": false
   },
   "outputs": [
    {
     "name": "stdout",
     "output_type": "stream",
     "text": [
      "<xarray.DataArray (time: 12, y: 1264, x: 1094)>\n",
      "array([[[        nan,         nan,         nan, ...,         nan,\n",
      "                 nan,         nan],\n",
      "        [        nan,         nan,         nan, ...,         nan,\n",
      "                 nan,         nan],\n",
      "        [        nan,         nan,         nan, ...,         nan,\n",
      "                 nan,         nan],\n",
      "        ..., \n",
      "        [ 0.72546012,  0.75293306,  0.72474747, ...,  0.60863874,\n",
      "          0.74612292,  0.69976905],\n",
      "        [ 0.72546012,  0.7819732 ,  0.74063058, ...,  0.62055838,\n",
      "          0.74612292,  0.73892499],\n",
      "        [ 0.76122673,  0.72474747,  0.76828479, ...,  0.65077233,\n",
      "          0.75745527,  0.71428571]],\n",
      "\n",
      "       [[        nan,         nan,         nan, ...,         nan,\n",
      "                 nan,         nan],\n",
      "        [        nan,         nan,         nan, ...,         nan,\n",
      "                 nan,         nan],\n",
      "        [        nan,         nan,         nan, ...,         nan,\n",
      "                 nan,         nan],\n",
      "        ..., \n",
      "        [ 0.49791667,  0.44414169,  0.53474903, ...,  0.59968038,\n",
      "          0.62231436,  0.55843247],\n",
      "        [ 0.56654676,  0.49791667,  0.49791667, ...,  0.58714462,\n",
      "          0.57169883,  0.54653252],\n",
      "        [ 0.45475113,  0.45475113,  0.57212714, ...,  0.5599473 ,\n",
      "          0.51665243,  0.49153908]],\n",
      "\n",
      "       [[        nan,         nan,         nan, ...,         nan,\n",
      "                 nan,         nan],\n",
      "        [        nan,         nan,         nan, ...,         nan,\n",
      "                 nan,         nan],\n",
      "        [        nan,         nan,         nan, ...,         nan,\n",
      "                 nan,         nan],\n",
      "        ..., \n",
      "        [        nan,         nan,         nan, ...,         nan,\n",
      "                 nan,         nan],\n",
      "        [        nan,         nan,         nan, ...,         nan,\n",
      "                 nan,         nan],\n",
      "        [        nan,         nan,         nan, ...,         nan,\n",
      "                 nan,         nan]],\n",
      "\n",
      "       ..., \n",
      "       [[        nan,         nan,         nan, ...,         nan,\n",
      "                 nan,         nan],\n",
      "        [        nan,         nan,         nan, ...,         nan,\n",
      "                 nan,         nan],\n",
      "        [        nan,         nan,         nan, ...,         nan,\n",
      "                 nan,         nan],\n",
      "        ..., \n",
      "        [ 0.73164557,  0.7662624 ,  0.73089701, ...,  0.65491651,\n",
      "          0.66287263,  0.66287263],\n",
      "        [ 0.83690394,  0.77118187,  0.77118187, ...,  0.66304348,\n",
      "          0.66287263,  0.67838617],\n",
      "        [ 0.7760169 ,  0.7805383 ,  0.75576037, ...,  0.65491651,\n",
      "          0.67079646,  0.66304348]],\n",
      "\n",
      "       [[        nan,         nan,         nan, ...,         nan,\n",
      "                 nan,         nan],\n",
      "        [        nan,         nan,         nan, ...,         nan,\n",
      "                 nan,         nan],\n",
      "        [        nan,         nan,         nan, ...,         nan,\n",
      "                 nan,         nan],\n",
      "        ..., \n",
      "        [        nan,         nan,         nan, ...,         nan,\n",
      "                 nan,         nan],\n",
      "        [        nan,         nan,         nan, ...,         nan,\n",
      "                 nan,         nan],\n",
      "        [        nan,         nan,         nan, ...,         nan,\n",
      "                 nan,         nan]],\n",
      "\n",
      "       [[        nan,         nan,         nan, ...,         nan,\n",
      "                 nan,         nan],\n",
      "        [        nan,         nan,         nan, ...,         nan,\n",
      "                 nan,         nan],\n",
      "        [        nan,         nan,         nan, ...,         nan,\n",
      "                 nan,         nan],\n",
      "        ..., \n",
      "        [        nan,         nan,         nan, ...,         nan,\n",
      "                 nan,         nan],\n",
      "        [        nan,         nan,         nan, ...,         nan,\n",
      "                 nan,         nan],\n",
      "        [        nan,         nan,         nan, ...,         nan,\n",
      "                 nan,         nan]]])\n",
      "Coordinates:\n",
      "  * time     (time) datetime64[ns] 1990-03-02T23:11:16 1990-05-05T23:10:28 ...\n",
      "  * y        (y) float64 -3.799e+06 -3.799e+06 -3.799e+06 -3.799e+06 ...\n",
      "  * x        (x) float64 1.649e+06 1.649e+06 1.649e+06 1.649e+06 1.649e+06 ...\n"
     ]
    }
   ],
   "source": [
    "print(masked_ndvi)"
   ]
  },
  {
   "cell_type": "code",
   "execution_count": 8,
   "metadata": {
    "collapsed": false
   },
   "outputs": [
    {
     "name": "stdout",
     "output_type": "stream",
     "text": [
      "<xarray.DataArray (y: 1264, x: 1094)>\n",
      "array([[        nan,         nan,         nan, ...,         nan,\n",
      "                nan,         nan],\n",
      "       [        nan,         nan,         nan, ...,         nan,\n",
      "                nan,         nan],\n",
      "       [        nan,         nan,         nan, ...,         nan,\n",
      "                nan,         nan],\n",
      "       ..., \n",
      "       [ 0.7421573 ,  0.76299446,  0.7630921 , ...,  0.65916716,\n",
      "         0.68892367,  0.68132084],\n",
      "       [ 0.7899478 ,  0.7877796 ,  0.7700596 , ...,  0.65662187,\n",
      "         0.6819106 ,  0.66060538],\n",
      "       [ 0.78449283,  0.79193582,  0.7850524 , ...,  0.65284442,\n",
      "         0.68658489,  0.6886646 ]])\n",
      "Coordinates:\n",
      "  * y        (y) float64 -3.799e+06 -3.799e+06 -3.799e+06 -3.799e+06 ...\n",
      "  * x        (x) float64 1.649e+06 1.649e+06 1.649e+06 1.649e+06 1.649e+06 ...\n"
     ]
    }
   ],
   "source": [
    "# currently dimensions are integer indices, later will be labels when\n",
    "# Data Access API Interface has been finalised.\n",
    "\n",
    "reduction_on_dim0 = nd.evaluate('median(masked_ndvi, 0)')\n",
    "print(reduction_on_dim0)"
   ]
  },
  {
   "cell_type": "code",
   "execution_count": 9,
   "metadata": {
    "collapsed": false
   },
   "outputs": [
    {
     "name": "stdout",
     "output_type": "stream",
     "text": [
      "<xarray.DataArray (x: 1094)>\n",
      "array([ 0.68826291,  0.68593686,  0.68199249, ...,  0.71585299,\n",
      "        0.71710697,  0.71660741])\n",
      "Coordinates:\n",
      "  * x        (x) float64 1.649e+06 1.649e+06 1.649e+06 1.649e+06 1.649e+06 ...\n"
     ]
    }
   ],
   "source": [
    "reduction_on_dim01 = nd.evaluate('median(masked_ndvi, 0, 1)')\n",
    "print(reduction_on_dim01)"
   ]
  },
  {
   "cell_type": "code",
   "execution_count": 10,
   "metadata": {
    "collapsed": false
   },
   "outputs": [
    {
     "name": "stdout",
     "output_type": "stream",
     "text": [
      "<xarray.DataArray ()>\n",
      "array(0.707667731629393)\n"
     ]
    }
   ],
   "source": [
    "reduction_on_dim012 = nd.evaluate('median(masked_ndvi, 0, 1, 2)')\n",
    "print(reduction_on_dim012)"
   ]
  },
  {
   "cell_type": "code",
   "execution_count": null,
   "metadata": {
    "collapsed": true
   },
   "outputs": [],
   "source": []
  }
 ],
 "metadata": {
  "kernelspec": {
   "display_name": "Python 2",
   "language": "python",
   "name": "python2"
  },
  "language_info": {
   "codemirror_mode": {
    "name": "ipython",
    "version": 2
   },
   "file_extension": ".py",
   "mimetype": "text/x-python",
   "name": "python",
   "nbconvert_exporter": "python",
   "pygments_lexer": "ipython2",
   "version": "2.7.11"
  }
 },
 "nbformat": 4,
 "nbformat_minor": 0
}
