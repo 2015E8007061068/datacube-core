{
 "cells": [
  {
   "cell_type": "markdown",
   "metadata": {},
   "source": [
    "# Band lookup and spectral comparison"
   ]
  },
  {
   "cell_type": "code",
   "execution_count": 1,
   "metadata": {
    "ExecuteTime": {
     "end_time": "2016-05-04T13:20:30.534000",
     "start_time": "2016-05-04T13:20:29.386000"
    },
    "collapsed": false
   },
   "outputs": [],
   "source": [
    "%matplotlib inline\n",
    "from matplotlib import pyplot as plt\n",
    "import datacube.api\n",
    "from datacube.api.semantic import *\n",
    "from datacube.api import spectral"
   ]
  },
  {
   "cell_type": "code",
   "execution_count": 2,
   "metadata": {
    "ExecuteTime": {
     "end_time": "2016-05-04T13:20:30.572000",
     "start_time": "2016-05-04T13:20:30.535000"
    },
    "collapsed": true
   },
   "outputs": [],
   "source": [
    "dc = datacube.api.API()"
   ]
  },
  {
   "cell_type": "markdown",
   "metadata": {},
   "source": [
    "## Lookup variables based on attributes"
   ]
  },
  {
   "cell_type": "markdown",
   "metadata": {},
   "source": [
    "### Name (simple case-insensitve comparison)"
   ]
  },
  {
   "cell_type": "code",
   "execution_count": 44,
   "metadata": {
    "ExecuteTime": {
     "end_time": "2016-05-04T13:35:11.771000",
     "start_time": "2016-05-04T13:35:11.676000"
    },
    "collapsed": false
   },
   "outputs": [
    {
     "name": "stdout",
     "output_type": "stream",
     "text": [
      "{u'ls5_nbar - band_30': <xarray.DataArray u'band_30' (time: 4, latitude: 12000, longitude: 16000)>\n",
      "dask.array<band_30, shape=(4, 12000, 16000), dtype=int16, chunksize=(4, 4000, 4000)>\n",
      "Coordinates:\n",
      "  * time       (time) datetime64[ns] 1990-03-02T23:11:16 1990-05-05T23:10:28 ...\n",
      "  * latitude   (latitude) float64 -33.0 -33.0 -33.0 -33.0 -33.0 -33.0 -33.0 ...\n",
      "  * longitude  (longitude) float64 148.0 148.0 148.0 148.0 148.0 148.0 148.0 ...\n",
      "Attributes:\n",
      "    _FillValue: -999\n",
      "    wavelength: 0.63 - 0.69 micrometers\n",
      "    colour: Red}\n"
     ]
    }
   ],
   "source": [
    "data = get_variable_data(dc, variables=by_name('band_30'))\n",
    "print {d['product']['name']+' - '+d['name']:d['array'] for d in data}"
   ]
  },
  {
   "cell_type": "markdown",
   "metadata": {
    "ExecuteTime": {
     "end_time": "2016-05-04T13:00:26.393000",
     "start_time": "2016-05-04T13:00:26.375000"
    }
   },
   "source": [
    "### Band number\n",
    "We can retrive the variable mappers outside of the get_variable_data call:"
   ]
  },
  {
   "cell_type": "code",
   "execution_count": 45,
   "metadata": {
    "ExecuteTime": {
     "end_time": "2016-05-04T13:35:17.426000",
     "start_time": "2016-05-04T13:35:17.348000"
    },
    "collapsed": false
   },
   "outputs": [
    {
     "name": "stdout",
     "output_type": "stream",
     "text": [
      "variables: [BandNumberMapper<1>, BandNumberMapper<2>]\n",
      "{u'ls5_nbar - #1': <xarray.DataArray u'band_10' (time: 4, latitude: 12000, longitude: 16000)>\n",
      "dask.array<band_10, shape=(4, 12000, 16000), dtype=int16, chunksize=(4, 4000, 4000)>\n",
      "Coordinates:\n",
      "  * time       (time) datetime64[ns] 1990-03-02T23:11:16 1990-05-05T23:10:28 ...\n",
      "  * latitude   (latitude) float64 -33.0 -33.0 -33.0 -33.0 -33.0 -33.0 -33.0 ...\n",
      "  * longitude  (longitude) float64 148.0 148.0 148.0 148.0 148.0 148.0 148.0 ...\n",
      "Attributes:\n",
      "    _FillValue: -999\n",
      "    wavelength: 0.45 - 0.52 micrometers\n",
      "    colour: Blue, u'ls5_nbar - #2': <xarray.DataArray u'band_20' (time: 4, latitude: 12000, longitude: 16000)>\n",
      "dask.array<band_20, shape=(4, 12000, 16000), dtype=int16, chunksize=(4, 4000, 4000)>\n",
      "Coordinates:\n",
      "  * time       (time) datetime64[ns] 1990-03-02T23:11:16 1990-05-05T23:10:28 ...\n",
      "  * latitude   (latitude) float64 -33.0 -33.0 -33.0 -33.0 -33.0 -33.0 -33.0 ...\n",
      "  * longitude  (longitude) float64 148.0 148.0 148.0 148.0 148.0 148.0 148.0 ...\n",
      "Attributes:\n",
      "    _FillValue: -999\n",
      "    wavelength: 0.52 - 0.60 micrometers\n",
      "    colour: Green}\n"
     ]
    }
   ],
   "source": [
    "variables = by_band(1, 2)\n",
    "print 'variables:', variables\n",
    "data = get_variable_data(dc, variables=variables)\n",
    "print {d['product']['name']+' - #'+d['name']:d['array'] for d in data}"
   ]
  },
  {
   "cell_type": "markdown",
   "metadata": {},
   "source": [
    "### Landsat colour"
   ]
  },
  {
   "cell_type": "code",
   "execution_count": 46,
   "metadata": {
    "ExecuteTime": {
     "end_time": "2016-05-04T13:35:22.609000",
     "start_time": "2016-05-04T13:35:22.580000"
    },
    "collapsed": false
   },
   "outputs": [
    {
     "name": "stdout",
     "output_type": "stream",
     "text": [
      "{}\n"
     ]
    }
   ],
   "source": [
    "data = get_variable_data(dc, variables=by_landsat('red', 'green', 'blue'))\n",
    "print {d['product']['name']+' - '+d['name']:d['array'] for d in data}"
   ]
  },
  {
   "cell_type": "markdown",
   "metadata": {},
   "source": [
    "## Lookup a band from the spectral library"
   ]
  },
  {
   "cell_type": "code",
   "execution_count": 29,
   "metadata": {
    "ExecuteTime": {
     "end_time": "2016-05-04T13:29:31.476000",
     "start_time": "2016-05-04T13:29:31.325000"
    },
    "collapsed": false
   },
   "outputs": [
    {
     "data": {
      "text/plain": [
       "[<matplotlib.lines.Line2D at 0x16481320>]"
      ]
     },
     "execution_count": 29,
     "metadata": {},
     "output_type": "execute_result"
    },
    {
     "data": {
      "image/png": "[encoded data removed]",
      "text/plain": [
       "<matplotlib.figure.Figure at 0x16481390>"
      ]
     },
     "metadata": {},
     "output_type": "display_data"
    }
   ],
   "source": [
    "ls5_red = spectral.get_band('LANDSAT_5', 'red')\n",
    "ls5_green = spectral.get_band('LANDSAT_5', 'green')\n",
    "ls5_blue = spectral.get_band('LANDSAT_5', 'blue')\n",
    "plt.plot(ls5_red.wavelength, ls5_red.rsr)"
   ]
  },
  {
   "cell_type": "code",
   "execution_count": 7,
   "metadata": {
    "ExecuteTime": {
     "end_time": "2016-05-04T13:20:31.014000",
     "start_time": "2016-05-04T13:20:30.888000"
    },
    "collapsed": false
   },
   "outputs": [
    {
     "data": {
      "text/plain": [
       "[<matplotlib.lines.Line2D at 0x14ee5a58>]"
      ]
     },
     "execution_count": 7,
     "metadata": {},
     "output_type": "execute_result"
    },
    {
     "data": {
      "image/png": "[encoded data removed]",
      "text/plain": [
       "<matplotlib.figure.Figure at 0x14ee5c88>"
      ]
     },
     "metadata": {},
     "output_type": "display_data"
    }
   ],
   "source": [
    "ls7_red = spectral.get_band('LANDSAT_7', 'red')\n",
    "plt.plot(ls7_red.wavelength, ls7_red.rsr)"
   ]
  },
  {
   "cell_type": "code",
   "execution_count": 8,
   "metadata": {
    "ExecuteTime": {
     "end_time": "2016-05-04T13:20:31.147000",
     "start_time": "2016-05-04T13:20:31.015000"
    },
    "collapsed": false
   },
   "outputs": [
    {
     "data": {
      "text/plain": [
       "[<matplotlib.lines.Line2D at 0x152325c0>]"
      ]
     },
     "execution_count": 8,
     "metadata": {},
     "output_type": "execute_result"
    },
    {
     "data": {
      "image/png": "[encoded data removed]",
      "text/plain": [
       "<matplotlib.figure.Figure at 0x15232208>"
      ]
     },
     "metadata": {},
     "output_type": "display_data"
    }
   ],
   "source": [
    "ls8_red = spectral.get_band('LANDSAT_8', 'red')\n",
    "plt.plot(ls8_red.wavelength, ls8_red.rsr)"
   ]
  },
  {
   "cell_type": "code",
   "execution_count": 23,
   "metadata": {
    "ExecuteTime": {
     "end_time": "2016-05-04T13:26:23.392000",
     "start_time": "2016-05-04T13:26:23.373000"
    },
    "collapsed": false
   },
   "outputs": [
    {
     "data": {
      "text/plain": [
       "{'area_delta': 4.8631499999999903,\n",
       " 'emd': 0,\n",
       " 'fwhm_delta': 6.8174829791626053,\n",
       " 'p_correlation': 0.97090020762711349,\n",
       " 'pearson': (0.97090020762711349, 1.3131213731901879e-100),\n",
       " 'weighted_center_delta': 0.82419033927499186}"
      ]
     },
     "execution_count": 23,
     "metadata": {},
     "output_type": "execute_result"
    }
   ],
   "source": [
    "spectral.compare_bands(ls5_red, ls7_red)"
   ]
  },
  {
   "cell_type": "markdown",
   "metadata": {},
   "source": [
    "### Make a spectral matcher\n",
    "Create the object directly:"
   ]
  },
  {
   "cell_type": "code",
   "execution_count": 27,
   "metadata": {
    "ExecuteTime": {
     "end_time": "2016-05-04T13:28:14.008000",
     "start_time": "2016-05-04T13:28:13.993000"
    },
    "collapsed": false
   },
   "outputs": [
    {
     "data": {
      "text/plain": [
       "SpectralMatch<band=SpectralBand<name=LANDSAT_5 red, range=(580, 740)>>"
      ]
     },
     "execution_count": 27,
     "metadata": {},
     "output_type": "execute_result"
    }
   ],
   "source": [
    "like_ls5_red = spectral.SpectralMatch(ls5_red, area=0.9)\n",
    "like_ls5_red"
   ]
  },
  {
   "cell_type": "markdown",
   "metadata": {},
   "source": [
    "Use the `like` function to pass many `(band, threshold_dict)` pairs:"
   ]
  },
  {
   "cell_type": "code",
   "execution_count": 30,
   "metadata": {
    "ExecuteTime": {
     "end_time": "2016-05-04T13:29:35.911000",
     "start_time": "2016-05-04T13:29:35.901000"
    },
    "collapsed": false
   },
   "outputs": [],
   "source": [
    "like_ls5_rgb = spectral.like((ls5_red, {'area': 0.9}), (ls5_green, {'p_correlation': 0.9}), (ls5_blue, {'p_correlation': 0.9}))"
   ]
  },
  {
   "cell_type": "markdown",
   "metadata": {
    "ExecuteTime": {
     "end_time": "2016-05-04T13:28:58.302000",
     "start_time": "2016-05-04T13:28:58.291000"
    }
   },
   "source": [
    "Or create a match on the band object:"
   ]
  },
  {
   "cell_type": "code",
   "execution_count": 31,
   "metadata": {
    "ExecuteTime": {
     "end_time": "2016-05-04T13:29:37.285000",
     "start_time": "2016-05-04T13:29:37.275000"
    },
    "collapsed": true
   },
   "outputs": [],
   "source": [
    "like_ls5_red = ls5_red.like(area=0.9)"
   ]
  },
  {
   "cell_type": "markdown",
   "metadata": {},
   "source": [
    "### Retrive the data"
   ]
  },
  {
   "cell_type": "code",
   "execution_count": 42,
   "metadata": {
    "ExecuteTime": {
     "end_time": "2016-05-04T13:33:41.864000",
     "start_time": "2016-05-04T13:33:41.744000"
    },
    "collapsed": false
   },
   "outputs": [
    {
     "name": "stdout",
     "output_type": "stream",
     "text": [
      "Product: ls5_nbar\n",
      "Variable: band_30\n",
      "Data: <xarray.DataArray u'band_30' (time: 4, latitude: 12000, longitude: 16000)>\n",
      "dask.array<band_30, shape=(4, 12000, 16000), dtype=int16, chunksize=(4, 4000, 4000)>\n",
      "Coordinates:\n",
      "  * time       (time) datetime64[ns] 1990-03-02T23:11:16 1990-05-05T23:10:28 ...\n",
      "  * latitude   (latitude) float64 -33.0 -33.0 -33.0 -33.0 -33.0 -33.0 -33.0 ...\n",
      "  * longitude  (longitude) float64 148.0 148.0 148.0 148.0 148.0 148.0 148.0 ...\n",
      "Attributes:\n",
      "    _FillValue: -999\n",
      "    wavelength: 0.63 - 0.69 micrometers\n",
      "    colour: Red\n"
     ]
    }
   ],
   "source": [
    "spectral_data = get_variable_data(dc, variables=like_ls5_red)\n",
    "for d in spectral_data:\n",
    "    print 'Product: {}'.format(d['product']['name'])\n",
    "    print 'Variable: {}'.format(d['name'])\n",
    "    print 'Data: {}'.format(d['array'])"
   ]
  },
  {
   "cell_type": "markdown",
   "metadata": {},
   "source": [
    "The function works in the same way to other API functions.\n",
    "If this is a suitable way forward, the normal usage could become:\n",
    "```python\n",
    "dc.get_variable_data(variables=like_ls5_red, time=(\"1990-06\", \"1990-10\"))\n",
    "```\n",
    "or\n",
    "```python\n",
    "dc.get_variables(variables=like_ls5_red, time=(\"1990-06\", \"1990-10\"))\n",
    "```\n",
    "returning a list of `xarray.DataArray` objects."
   ]
  },
  {
   "cell_type": "code",
   "execution_count": 43,
   "metadata": {
    "ExecuteTime": {
     "end_time": "2016-05-04T13:34:38.850000",
     "start_time": "2016-05-04T13:34:38.707000"
    },
    "collapsed": false
   },
   "outputs": [
    {
     "name": "stdout",
     "output_type": "stream",
     "text": [
      "Product: ls5_nbar\n",
      "Variable: band_30\n",
      "Data: <xarray.DataArray u'band_30' (time: 2, latitude: 12000, longitude: 16000)>\n",
      "dask.array<getitem..., shape=(2, 12000, 16000), dtype=int16, chunksize=(2, 4000, 4000)>\n",
      "Coordinates:\n",
      "  * time       (time) datetime64[ns] 1990-06-06T23:10:29 1990-07-24T23:10:22\n",
      "  * latitude   (latitude) float64 -33.0 -33.0 -33.0 -33.0 -33.0 -33.0 -33.0 ...\n",
      "  * longitude  (longitude) float64 148.0 148.0 148.0 148.0 148.0 148.0 148.0 ...\n",
      "Attributes:\n",
      "    _FillValue: -999\n",
      "    wavelength: 0.63 - 0.69 micrometers\n",
      "    colour: Red\n"
     ]
    }
   ],
   "source": [
    "spectral_data = get_variable_data(dc, variables=like_ls5_red, time=(\"1990-06\", \"1990-10\"))\n",
    "for d in spectral_data:\n",
    "    print 'Product: {}'.format(d['product']['name'])\n",
    "    print 'Variable: {}'.format(d['name'])\n",
    "    print 'Data: {}'.format(d['array'])"
   ]
  }
 ],
 "metadata": {
  "kernelspec": {
   "display_name": "Python 2",
   "language": "python",
   "name": "python2"
  },
  "language_info": {
   "codemirror_mode": {
    "name": "ipython",
    "version": 2
   },
   "file_extension": ".py",
   "mimetype": "text/x-python",
   "name": "python",
   "nbconvert_exporter": "python",
   "pygments_lexer": "ipython2",
   "version": "2.7.11"
  },
  "toc": {
   "toc_cell": false,
   "toc_number_sections": false,
   "toc_threshold": 6,
   "toc_window_display": true
  }
 },
 "nbformat": 4,
 "nbformat_minor": 0
}
